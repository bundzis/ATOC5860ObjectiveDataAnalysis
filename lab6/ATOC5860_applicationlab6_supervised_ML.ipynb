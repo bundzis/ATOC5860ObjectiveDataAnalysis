{
 "cells": [
  {
   "cell_type": "code",
   "execution_count": 1,
   "metadata": {},
   "outputs": [],
   "source": [
    "### ATOC5860 Application Lab #6 - supervised machine learning\n",
    "### Coded by Eleanor Middlemas (Jupiter, formerly University of Colorado, elmiddlemas at gmail.com)\n",
    "### Additional code/commenting by Jennifer Kay (University of Colorado) \n",
    "### Last updated April 6, 2022\n",
    "\n",
    "import pandas as pd\n",
    "import numpy as np\n",
    "import datetime\n",
    "import time"
   ]
  },
  {
   "cell_type": "markdown",
   "metadata": {},
   "source": [
    "*In this notebook, we will use supervised machine learning models to:*\n",
    "\n",
    "**1) Predict the likelihood of rainfall given certain atmospheric conditions.**\n",
    "After prepping the data, we will build and train four machine learning models to make the predictions: Logistic regression, Random Forest, Singular vector machines/classifier, Neural Network\n",
    "\n",
    "**2) Determine which variable (\"feature\") is the best predictor of rainfall, i.e., \"feature importance\"**"
   ]
  },
  {
   "cell_type": "markdown",
   "metadata": {},
   "source": [
    "## STEP 1: Read in the Data into a pandas dataframe and Look At It"
   ]
  },
  {
   "cell_type": "code",
   "execution_count": 2,
   "metadata": {},
   "outputs": [
    {
     "data": {
      "text/html": [
       "<div>\n",
       "<style scoped>\n",
       "    .dataframe tbody tr th:only-of-type {\n",
       "        vertical-align: middle;\n",
       "    }\n",
       "\n",
       "    .dataframe tbody tr th {\n",
       "        vertical-align: top;\n",
       "    }\n",
       "\n",
       "    .dataframe thead th {\n",
       "        text-align: right;\n",
       "    }\n",
       "</style>\n",
       "<table border=\"1\" class=\"dataframe\">\n",
       "  <thead>\n",
       "    <tr style=\"text-align: right;\">\n",
       "      <th></th>\n",
       "      <th>day</th>\n",
       "      <th>hour</th>\n",
       "      <th>temp_F</th>\n",
       "      <th>RH</th>\n",
       "      <th>dewtemp_F</th>\n",
       "      <th>wind_mph</th>\n",
       "      <th>wind_dir</th>\n",
       "      <th>windgust</th>\n",
       "      <th>windgust_dir</th>\n",
       "      <th>pres_Hg</th>\n",
       "      <th>SOLIN_Wm2</th>\n",
       "      <th>Prec_inches</th>\n",
       "    </tr>\n",
       "  </thead>\n",
       "  <tbody>\n",
       "    <tr>\n",
       "      <th>0</th>\n",
       "      <td>42370</td>\n",
       "      <td>0.000000</td>\n",
       "      <td>7.0</td>\n",
       "      <td>72.2</td>\n",
       "      <td>-0.1</td>\n",
       "      <td>1.2</td>\n",
       "      <td>234</td>\n",
       "      <td>3.9</td>\n",
       "      <td>224</td>\n",
       "      <td>851.30</td>\n",
       "      <td>0.0</td>\n",
       "      <td>0.0</td>\n",
       "    </tr>\n",
       "    <tr>\n",
       "      <th>1</th>\n",
       "      <td>42370</td>\n",
       "      <td>0.041667</td>\n",
       "      <td>5.4</td>\n",
       "      <td>74.3</td>\n",
       "      <td>-1.0</td>\n",
       "      <td>3.4</td>\n",
       "      <td>299</td>\n",
       "      <td>7.1</td>\n",
       "      <td>302</td>\n",
       "      <td>850.82</td>\n",
       "      <td>0.0</td>\n",
       "      <td>0.0</td>\n",
       "    </tr>\n",
       "    <tr>\n",
       "      <th>2</th>\n",
       "      <td>42370</td>\n",
       "      <td>0.083333</td>\n",
       "      <td>6.4</td>\n",
       "      <td>73.8</td>\n",
       "      <td>-0.2</td>\n",
       "      <td>2.8</td>\n",
       "      <td>200</td>\n",
       "      <td>7.0</td>\n",
       "      <td>301</td>\n",
       "      <td>849.83</td>\n",
       "      <td>0.0</td>\n",
       "      <td>0.0</td>\n",
       "    </tr>\n",
       "    <tr>\n",
       "      <th>3</th>\n",
       "      <td>42370</td>\n",
       "      <td>0.125000</td>\n",
       "      <td>3.0</td>\n",
       "      <td>73.5</td>\n",
       "      <td>-3.6</td>\n",
       "      <td>2.9</td>\n",
       "      <td>309</td>\n",
       "      <td>6.1</td>\n",
       "      <td>349</td>\n",
       "      <td>850.69</td>\n",
       "      <td>0.0</td>\n",
       "      <td>0.0</td>\n",
       "    </tr>\n",
       "    <tr>\n",
       "      <th>4</th>\n",
       "      <td>42370</td>\n",
       "      <td>0.166667</td>\n",
       "      <td>3.7</td>\n",
       "      <td>76.9</td>\n",
       "      <td>-1.9</td>\n",
       "      <td>3.1</td>\n",
       "      <td>346</td>\n",
       "      <td>5.3</td>\n",
       "      <td>255</td>\n",
       "      <td>848.24</td>\n",
       "      <td>0.0</td>\n",
       "      <td>0.0</td>\n",
       "    </tr>\n",
       "    <tr>\n",
       "      <th>...</th>\n",
       "      <td>...</td>\n",
       "      <td>...</td>\n",
       "      <td>...</td>\n",
       "      <td>...</td>\n",
       "      <td>...</td>\n",
       "      <td>...</td>\n",
       "      <td>...</td>\n",
       "      <td>...</td>\n",
       "      <td>...</td>\n",
       "      <td>...</td>\n",
       "      <td>...</td>\n",
       "      <td>...</td>\n",
       "    </tr>\n",
       "    <tr>\n",
       "      <th>8779</th>\n",
       "      <td>42735</td>\n",
       "      <td>0.791667</td>\n",
       "      <td>22.3</td>\n",
       "      <td>74.3</td>\n",
       "      <td>15.4</td>\n",
       "      <td>0.9</td>\n",
       "      <td>221</td>\n",
       "      <td>3.3</td>\n",
       "      <td>202</td>\n",
       "      <td>833.32</td>\n",
       "      <td>0.0</td>\n",
       "      <td>0.0</td>\n",
       "    </tr>\n",
       "    <tr>\n",
       "      <th>8780</th>\n",
       "      <td>42735</td>\n",
       "      <td>0.833333</td>\n",
       "      <td>20.3</td>\n",
       "      <td>80.4</td>\n",
       "      <td>15.3</td>\n",
       "      <td>0.6</td>\n",
       "      <td>279</td>\n",
       "      <td>2.9</td>\n",
       "      <td>279</td>\n",
       "      <td>833.45</td>\n",
       "      <td>0.1</td>\n",
       "      <td>0.0</td>\n",
       "    </tr>\n",
       "    <tr>\n",
       "      <th>8781</th>\n",
       "      <td>42735</td>\n",
       "      <td>0.875000</td>\n",
       "      <td>19.9</td>\n",
       "      <td>81.1</td>\n",
       "      <td>15.1</td>\n",
       "      <td>0.5</td>\n",
       "      <td>197</td>\n",
       "      <td>2.5</td>\n",
       "      <td>279</td>\n",
       "      <td>833.01</td>\n",
       "      <td>0.1</td>\n",
       "      <td>0.0</td>\n",
       "    </tr>\n",
       "    <tr>\n",
       "      <th>8782</th>\n",
       "      <td>42735</td>\n",
       "      <td>0.916667</td>\n",
       "      <td>17.8</td>\n",
       "      <td>82.8</td>\n",
       "      <td>13.5</td>\n",
       "      <td>2.0</td>\n",
       "      <td>353</td>\n",
       "      <td>4.8</td>\n",
       "      <td>352</td>\n",
       "      <td>832.78</td>\n",
       "      <td>0.1</td>\n",
       "      <td>0.0</td>\n",
       "    </tr>\n",
       "    <tr>\n",
       "      <th>8783</th>\n",
       "      <td>42735</td>\n",
       "      <td>0.958333</td>\n",
       "      <td>16.3</td>\n",
       "      <td>84.1</td>\n",
       "      <td>12.4</td>\n",
       "      <td>1.0</td>\n",
       "      <td>191</td>\n",
       "      <td>4.9</td>\n",
       "      <td>353</td>\n",
       "      <td>832.62</td>\n",
       "      <td>0.0</td>\n",
       "      <td>0.0</td>\n",
       "    </tr>\n",
       "  </tbody>\n",
       "</table>\n",
       "<p>8784 rows × 12 columns</p>\n",
       "</div>"
      ],
      "text/plain": [
       "        day      hour  temp_F    RH  dewtemp_F  wind_mph  wind_dir  windgust  \\\n",
       "0     42370  0.000000     7.0  72.2       -0.1       1.2       234       3.9   \n",
       "1     42370  0.041667     5.4  74.3       -1.0       3.4       299       7.1   \n",
       "2     42370  0.083333     6.4  73.8       -0.2       2.8       200       7.0   \n",
       "3     42370  0.125000     3.0  73.5       -3.6       2.9       309       6.1   \n",
       "4     42370  0.166667     3.7  76.9       -1.9       3.1       346       5.3   \n",
       "...     ...       ...     ...   ...        ...       ...       ...       ...   \n",
       "8779  42735  0.791667    22.3  74.3       15.4       0.9       221       3.3   \n",
       "8780  42735  0.833333    20.3  80.4       15.3       0.6       279       2.9   \n",
       "8781  42735  0.875000    19.9  81.1       15.1       0.5       197       2.5   \n",
       "8782  42735  0.916667    17.8  82.8       13.5       2.0       353       4.8   \n",
       "8783  42735  0.958333    16.3  84.1       12.4       1.0       191       4.9   \n",
       "\n",
       "      windgust_dir  pres_Hg  SOLIN_Wm2  Prec_inches  \n",
       "0              224   851.30        0.0          0.0  \n",
       "1              302   850.82        0.0          0.0  \n",
       "2              301   849.83        0.0          0.0  \n",
       "3              349   850.69        0.0          0.0  \n",
       "4              255   848.24        0.0          0.0  \n",
       "...            ...      ...        ...          ...  \n",
       "8779           202   833.32        0.0          0.0  \n",
       "8780           279   833.45        0.1          0.0  \n",
       "8781           279   833.01        0.1          0.0  \n",
       "8782           352   832.78        0.1          0.0  \n",
       "8783           353   832.62        0.0          0.0  \n",
       "\n",
       "[8784 rows x 12 columns]"
      ]
     },
     "execution_count": 2,
     "metadata": {},
     "output_type": "execute_result"
    }
   ],
   "source": [
    "# read in the data\n",
    "df = pd.read_csv(\"christman_2016.csv\")\n",
    "# preview data (also through df.head() & df.tail())\n",
    "df"
   ]
  },
  {
   "cell_type": "code",
   "execution_count": 3,
   "metadata": {},
   "outputs": [
    {
     "data": {
      "text/plain": [
       "366"
      ]
     },
     "execution_count": 3,
     "metadata": {},
     "output_type": "execute_result"
    }
   ],
   "source": [
    "df.day.nunique() ## Print the answer to: How many days are in this dataset?"
   ]
  },
  {
   "cell_type": "code",
   "execution_count": 4,
   "metadata": {},
   "outputs": [],
   "source": [
    "##Optional: transform the day column into a readable date. Run this ONCE.\n",
    "df['day'] = [datetime.date.fromordinal(day+693594) for day in df['day']]"
   ]
  },
  {
   "cell_type": "markdown",
   "metadata": {},
   "source": [
    "## STEP 2: Data and Function Preparation\n",
    "\n",
    "Data preparation is a huge part of building Machine Learning model \"pipelines\". Carefully think through building & training a Machine Learning model before you run it. There are a few statistical \"gotchas\" that may result in your model being biased, inaccurate, or not suitable for the problem at hand.  Address these 6 questions!\n",
    "\n",
    "**Q1: What exactly are we trying to predict? A value, an outcome, a category?** Define your predictors and predictand. Relate these to your hypothesis or overarching question. In our case, our predictand is the likelihood of precipitation. We will build models to predict the likelihood that it's currently precipitating, given current atmospheric conditions.\n",
    "\n",
    "**Q2: Do you have any missing data? If so, how will you handle them?** Keep in mind, decreasing the number of input observations may bias your model. Using the Christman dataset, we have no missing data.\n",
    "\n",
    "**Q3: Do you have any categorical or non-numeric variables or features?** If so, you must figure out how to encode them into numbers. Luckily, in the geosciences, we rarely run into this problem.\n",
    "\n",
    "**Q4: How will we validate our model?** Typically, people split their existing data into training data and testing data, or perform \"cross-validation\" or a \"test-train split\". That is, we will \"hold out\" some data and call it our \"testing data\", while using the rest of the data to train our model (i.e., \"training data\"). Once our model is trained, we will evaluate its performance with the holdout testing data. Note: This could be problematic if there is limited data.\n",
    "\n",
    "**Q5: Do your features have the same variance?** You need to consider this to ensure your model doesn't overly depend on one variable with large variance. This step is called \"feature scaling\". Features of the same size also speed up the Gradient Descent algorithm.\n",
    "\n",
    "**Q6: If classification is the goal, are there the same number of observations for each feature and outcome? If not, how will you rebalance?** Here, the Christman dataset has same number of observations (8784) for each feature. But, times with no precipitation are way more common than times with precipitation. To deal with this issue, we will oversample the observations associated with precip so that the two outcomes (or \"classes\") are equal. Note: It's important that feature scaling or normalization is performed before any rebalancing so that the qualitative statistics (mean, stddev, etc) remain the same.\n",
    "\n",
    "**Q7: Which metrics are appropriate for assessing your model?** Consider the bias-variance trade-off, and whether having false positives or false negatives is more impactful. In our case, predicting no rain when there is rain (false negative) is probably more frustrating and potentially more impactful than the other way around (a false positive)."
   ]
  },
  {
   "cell_type": "markdown",
   "metadata": {},
   "source": [
    "**Q1. What exactly are you trying to predict?**\n",
    "\n",
    "First, split data into predictor & predictands. "
   ]
  },
  {
   "cell_type": "code",
   "execution_count": 5,
   "metadata": {},
   "outputs": [],
   "source": [
    "##Create a new feature that indicates whether precipitation occurred. Perform this step ONCE.\n",
    "#print(df.columns) # print if you need to see what is the variable called that indicates precipitation amount?\n",
    "df['prec_occur'] = np.array(df.Prec_inches!=0).astype(int)"
   ]
  },
  {
   "cell_type": "code",
   "execution_count": 6,
   "metadata": {},
   "outputs": [
    {
     "data": {
      "text/html": [
       "<div>\n",
       "<style scoped>\n",
       "    .dataframe tbody tr th:only-of-type {\n",
       "        vertical-align: middle;\n",
       "    }\n",
       "\n",
       "    .dataframe tbody tr th {\n",
       "        vertical-align: top;\n",
       "    }\n",
       "\n",
       "    .dataframe thead th {\n",
       "        text-align: right;\n",
       "    }\n",
       "</style>\n",
       "<table border=\"1\" class=\"dataframe\">\n",
       "  <thead>\n",
       "    <tr style=\"text-align: right;\">\n",
       "      <th></th>\n",
       "      <th>temp_F</th>\n",
       "      <th>RH</th>\n",
       "      <th>dewtemp_F</th>\n",
       "      <th>wind_mph</th>\n",
       "      <th>wind_dir</th>\n",
       "      <th>windgust</th>\n",
       "      <th>windgust_dir</th>\n",
       "      <th>pres_Hg</th>\n",
       "      <th>SOLIN_Wm2</th>\n",
       "      <th>prec_occur</th>\n",
       "    </tr>\n",
       "  </thead>\n",
       "  <tbody>\n",
       "    <tr>\n",
       "      <th>0</th>\n",
       "      <td>7.0</td>\n",
       "      <td>72.2</td>\n",
       "      <td>-0.1</td>\n",
       "      <td>1.2</td>\n",
       "      <td>234</td>\n",
       "      <td>3.9</td>\n",
       "      <td>224</td>\n",
       "      <td>851.30</td>\n",
       "      <td>0.0</td>\n",
       "      <td>0</td>\n",
       "    </tr>\n",
       "    <tr>\n",
       "      <th>1</th>\n",
       "      <td>5.4</td>\n",
       "      <td>74.3</td>\n",
       "      <td>-1.0</td>\n",
       "      <td>3.4</td>\n",
       "      <td>299</td>\n",
       "      <td>7.1</td>\n",
       "      <td>302</td>\n",
       "      <td>850.82</td>\n",
       "      <td>0.0</td>\n",
       "      <td>0</td>\n",
       "    </tr>\n",
       "    <tr>\n",
       "      <th>2</th>\n",
       "      <td>6.4</td>\n",
       "      <td>73.8</td>\n",
       "      <td>-0.2</td>\n",
       "      <td>2.8</td>\n",
       "      <td>200</td>\n",
       "      <td>7.0</td>\n",
       "      <td>301</td>\n",
       "      <td>849.83</td>\n",
       "      <td>0.0</td>\n",
       "      <td>0</td>\n",
       "    </tr>\n",
       "    <tr>\n",
       "      <th>3</th>\n",
       "      <td>3.0</td>\n",
       "      <td>73.5</td>\n",
       "      <td>-3.6</td>\n",
       "      <td>2.9</td>\n",
       "      <td>309</td>\n",
       "      <td>6.1</td>\n",
       "      <td>349</td>\n",
       "      <td>850.69</td>\n",
       "      <td>0.0</td>\n",
       "      <td>0</td>\n",
       "    </tr>\n",
       "    <tr>\n",
       "      <th>4</th>\n",
       "      <td>3.7</td>\n",
       "      <td>76.9</td>\n",
       "      <td>-1.9</td>\n",
       "      <td>3.1</td>\n",
       "      <td>346</td>\n",
       "      <td>5.3</td>\n",
       "      <td>255</td>\n",
       "      <td>848.24</td>\n",
       "      <td>0.0</td>\n",
       "      <td>0</td>\n",
       "    </tr>\n",
       "    <tr>\n",
       "      <th>...</th>\n",
       "      <td>...</td>\n",
       "      <td>...</td>\n",
       "      <td>...</td>\n",
       "      <td>...</td>\n",
       "      <td>...</td>\n",
       "      <td>...</td>\n",
       "      <td>...</td>\n",
       "      <td>...</td>\n",
       "      <td>...</td>\n",
       "      <td>...</td>\n",
       "    </tr>\n",
       "    <tr>\n",
       "      <th>8779</th>\n",
       "      <td>22.3</td>\n",
       "      <td>74.3</td>\n",
       "      <td>15.4</td>\n",
       "      <td>0.9</td>\n",
       "      <td>221</td>\n",
       "      <td>3.3</td>\n",
       "      <td>202</td>\n",
       "      <td>833.32</td>\n",
       "      <td>0.0</td>\n",
       "      <td>0</td>\n",
       "    </tr>\n",
       "    <tr>\n",
       "      <th>8780</th>\n",
       "      <td>20.3</td>\n",
       "      <td>80.4</td>\n",
       "      <td>15.3</td>\n",
       "      <td>0.6</td>\n",
       "      <td>279</td>\n",
       "      <td>2.9</td>\n",
       "      <td>279</td>\n",
       "      <td>833.45</td>\n",
       "      <td>0.1</td>\n",
       "      <td>0</td>\n",
       "    </tr>\n",
       "    <tr>\n",
       "      <th>8781</th>\n",
       "      <td>19.9</td>\n",
       "      <td>81.1</td>\n",
       "      <td>15.1</td>\n",
       "      <td>0.5</td>\n",
       "      <td>197</td>\n",
       "      <td>2.5</td>\n",
       "      <td>279</td>\n",
       "      <td>833.01</td>\n",
       "      <td>0.1</td>\n",
       "      <td>0</td>\n",
       "    </tr>\n",
       "    <tr>\n",
       "      <th>8782</th>\n",
       "      <td>17.8</td>\n",
       "      <td>82.8</td>\n",
       "      <td>13.5</td>\n",
       "      <td>2.0</td>\n",
       "      <td>353</td>\n",
       "      <td>4.8</td>\n",
       "      <td>352</td>\n",
       "      <td>832.78</td>\n",
       "      <td>0.1</td>\n",
       "      <td>0</td>\n",
       "    </tr>\n",
       "    <tr>\n",
       "      <th>8783</th>\n",
       "      <td>16.3</td>\n",
       "      <td>84.1</td>\n",
       "      <td>12.4</td>\n",
       "      <td>1.0</td>\n",
       "      <td>191</td>\n",
       "      <td>4.9</td>\n",
       "      <td>353</td>\n",
       "      <td>832.62</td>\n",
       "      <td>0.0</td>\n",
       "      <td>0</td>\n",
       "    </tr>\n",
       "  </tbody>\n",
       "</table>\n",
       "<p>8784 rows × 10 columns</p>\n",
       "</div>"
      ],
      "text/plain": [
       "      temp_F    RH  dewtemp_F  wind_mph  wind_dir  windgust  windgust_dir  \\\n",
       "0        7.0  72.2       -0.1       1.2       234       3.9           224   \n",
       "1        5.4  74.3       -1.0       3.4       299       7.1           302   \n",
       "2        6.4  73.8       -0.2       2.8       200       7.0           301   \n",
       "3        3.0  73.5       -3.6       2.9       309       6.1           349   \n",
       "4        3.7  76.9       -1.9       3.1       346       5.3           255   \n",
       "...      ...   ...        ...       ...       ...       ...           ...   \n",
       "8779    22.3  74.3       15.4       0.9       221       3.3           202   \n",
       "8780    20.3  80.4       15.3       0.6       279       2.9           279   \n",
       "8781    19.9  81.1       15.1       0.5       197       2.5           279   \n",
       "8782    17.8  82.8       13.5       2.0       353       4.8           352   \n",
       "8783    16.3  84.1       12.4       1.0       191       4.9           353   \n",
       "\n",
       "      pres_Hg  SOLIN_Wm2  prec_occur  \n",
       "0      851.30        0.0           0  \n",
       "1      850.82        0.0           0  \n",
       "2      849.83        0.0           0  \n",
       "3      850.69        0.0           0  \n",
       "4      848.24        0.0           0  \n",
       "...       ...        ...         ...  \n",
       "8779   833.32        0.0           0  \n",
       "8780   833.45        0.1           0  \n",
       "8781   833.01        0.1           0  \n",
       "8782   832.78        0.1           0  \n",
       "8783   832.62        0.0           0  \n",
       "\n",
       "[8784 rows x 10 columns]"
      ]
     },
     "execution_count": 6,
     "metadata": {},
     "output_type": "execute_result"
    }
   ],
   "source": [
    "#Next, select the data that will be predictors.\n",
    "predictors = df.copy(deep=True)  # here, we use \"deep = True\" so that changes to predictors won't be made to the df.\n",
    "\n",
    "#Next, we drop some variables that shouldn't be used to predict whether or not there is rain.\n",
    "predictors = df.drop(['day','hour','Prec_inches'],axis=1) \n",
    "predictors"
   ]
  },
  {
   "cell_type": "code",
   "execution_count": 7,
   "metadata": {},
   "outputs": [],
   "source": [
    "## Great, that worked. Now I will assign everything but \"prec\" to be the predictor array \"x\", \n",
    "## and prec will be the predictand vector \"y\".\n",
    "\n",
    "x = predictors.drop('prec_occur',axis=1)\n",
    "y = predictors.prec_occur"
   ]
  },
  {
   "cell_type": "markdown",
   "metadata": {},
   "source": [
    "**Q2 & Q3 do not need to be addressed in our dataset.**"
   ]
  },
  {
   "cell_type": "markdown",
   "metadata": {},
   "source": [
    "**Q4. How will you validate your model?**\n",
    "\n",
    "We will perform a test-train split to validate our trained model. This step must be performed before each time the model is trained to ensure we are not baking in any bias among the models we train. That also means the following two steps must also be performed prior to training each model as well. For this reason, we write functions to call \n",
    "easily before each model training."
   ]
  },
  {
   "cell_type": "code",
   "execution_count": 8,
   "metadata": {},
   "outputs": [],
   "source": [
    "from sklearn.model_selection import train_test_split\n",
    "from random import randint"
   ]
  },
  {
   "cell_type": "code",
   "execution_count": 9,
   "metadata": {},
   "outputs": [],
   "source": [
    "def define_holdout_data(x, y, verbose):\n",
    "    \"\"\"Perform a 80/20 test-train split (80% of data is training, 20% is testing). Split is randomized with each call.\"\"\"\n",
    "    random_state = randint(0,1000)\n",
    "    x_train, x_test, y_train, y_test = train_test_split(x, y, test_size=0.20, random_state=random_state)\n",
    "    if verbose==True:\n",
    "        print(\"Prior to scaling and rebalacing...\")\n",
    "        print(\"Shape of training predictors: \"+str(np.shape(x_train)))\n",
    "        print(\"Shape of testing predictors: \"+str(np.shape(x_test)))\n",
    "        print(\"Shape of training predictands: \"+str(np.shape(y_train)))\n",
    "        print(\"Shape of testing predictands: \"+str(np.shape(y_test)))\n",
    "        print(\" \")\n",
    "    return x_train, x_test, y_train, y_test"
   ]
  },
  {
   "cell_type": "markdown",
   "metadata": {},
   "source": [
    "**Q5. Do your features have the same variance?**\n",
    "\n",
    "We must normalize the features. In machine learning this is called Feature Scaling\". We do this so that the features with the largest variance are not weighted more heavily than those with less variance. Note: If our predictand wasn't binary, then we would normalize it as well.\n",
    "\n",
    "We'll keep the data as a pandas dataframe rather than converting it to a numpy array beforehand. The \"fit_transform\" function outputs a numpy array, but we will convert back to a dataframe so that re-balancing the dataset is easier."
   ]
  },
  {
   "cell_type": "code",
   "execution_count": 10,
   "metadata": {},
   "outputs": [],
   "source": [
    "from sklearn import preprocessing"
   ]
  },
  {
   "cell_type": "code",
   "execution_count": 11,
   "metadata": {},
   "outputs": [],
   "source": [
    "def scale_data(x_train, x_test):\n",
    "    \"\"\"\n",
    "    Scale training data so that model reaches optimized weights much faster. \n",
    "    \n",
    "    *All data that enters the model should use the same scaling used to scale the training data.*\n",
    "    Thus, we also perform scaling on testing data for validation later. \n",
    "    Additionally, we return the scaler used to scale any other future input data.\n",
    "    \"\"\"\n",
    "    \n",
    "    scaler = preprocessing.MinMaxScaler() # normalize \n",
    "    x_train_scaled = pd.DataFrame(data=scaler.fit_transform(x_train),index=x_train.index,columns=x_train.columns) \n",
    "    x_test_scaled = pd.DataFrame(data=scaler.transform(x_test),index=x_test.index,columns=x_test.columns)\n",
    "    \n",
    "    return scaler, x_train_scaled, x_test_scaled"
   ]
  },
  {
   "cell_type": "markdown",
   "metadata": {},
   "source": [
    "**Q6. Are there the same number of observations for each outcome or class?**\n",
    "Luckily, we have the same number of observations for each feature (8784). But do we have the same number of outcomes for our predictand?"
   ]
  },
  {
   "cell_type": "code",
   "execution_count": 12,
   "metadata": {},
   "outputs": [
    {
     "data": {
      "text/plain": [
       "0    8501\n",
       "1     283\n",
       "Name: prec_occur, dtype: int64"
      ]
     },
     "execution_count": 12,
     "metadata": {},
     "output_type": "execute_result"
    }
   ],
   "source": [
    "df['prec_occur'].value_counts()"
   ]
  },
  {
   "cell_type": "markdown",
   "metadata": {},
   "source": [
    "**Answer:** Definitely not. The outcomes we are trying to predict are extremely unbalanced. Non-precip hours occur 30x more than precip hours. This class imbalance may bias the model because precip hours are underrepresented, which means the model won't have as many instances of precip hours to learn to distinguish precip hours from non-precip hours.\n",
    "\n",
    "There are a number of out-of-the-box functions that resample data very precisely. The one I use below simply randomly oversamples the existing precipitating observation data to balance the dataset.\n",
    "\n",
    "Note: This function should be called on both training and testing data separately."
   ]
  },
  {
   "cell_type": "code",
   "execution_count": 13,
   "metadata": {},
   "outputs": [],
   "source": [
    "from sklearn.utils import resample"
   ]
  },
  {
   "cell_type": "code",
   "execution_count": 14,
   "metadata": {},
   "outputs": [],
   "source": [
    "def balance_data(x,y,verbose):\n",
    "    \"\"\"Resample data ensure model is not biased towards a particular outcome of precip or no precip.\"\"\"\n",
    "    # Combine again to one dataframe to ensure both the predictor and predictand are resampled from the same \n",
    "    # observations based on predictand outcomes. \n",
    "    dataset = pd.concat([x, y],axis=1)\n",
    "\n",
    "    # Separating classes\n",
    "    raining = dataset[dataset['prec_occur'] == 1]\n",
    "    not_raining = dataset[dataset['prec_occur'] == 0]\n",
    "\n",
    "    random_state = randint(0,1000)\n",
    "    oversample = resample(raining, \n",
    "                           replace=True, \n",
    "                           n_samples=len(not_raining), #set the number of samples to equal the number of the majority class\n",
    "                           random_state=random_state)\n",
    "\n",
    "    # Returning to new training set\n",
    "    oversample_dataset = pd.concat([not_raining, oversample])\n",
    "\n",
    "    # reseparate oversampled data into X and y sets\n",
    "    x_bal = oversample_dataset.drop(['prec_occur'], axis=1)\n",
    "    y_bal = oversample_dataset['prec_occur']\n",
    "\n",
    "    if verbose==True:\n",
    "        print(\"After scaling and rebalacing...\")\n",
    "        print(\"Shape of predictors: \"+str(np.shape(x_bal)))\n",
    "        print(\"Shape of predictands: \"+str(np.shape(y_bal)))\n",
    "        print(\" \")\n",
    "    \n",
    "    return x_bal, y_bal"
   ]
  },
  {
   "cell_type": "markdown",
   "metadata": {},
   "source": [
    "**For ease, let's put the data prep code from questions 1-6 into a pipeline.  In other words we will write a single function to accomplish everything we have done so far in this notebook.**\n"
   ]
  },
  {
   "cell_type": "code",
   "execution_count": 15,
   "metadata": {},
   "outputs": [],
   "source": [
    "def dataprep_pipeline(x, y, verbose):\n",
    "    \"\"\" Combines all the functions defined above so that the user only has to \n",
    "    call one function to do all data pre-processing. \"\"\"\n",
    "    # verbose=True prints the shapes of input & output data\n",
    "\n",
    "    # split into training & testing data\n",
    "    x_train, x_test, y_train, y_test = define_holdout_data(x, y, verbose) \n",
    "\n",
    "    # perform feature scaling\n",
    "    scaler, x_train_scaled, x_test_scaled = scale_data(x_train, x_test)\n",
    "\n",
    "    # rebalance according to outcomes (i.e., the number of precipitating \n",
    "    # observations & non-precipitating outcomes should be equal)\n",
    "    if verbose==True:\n",
    "        print(\"for training data... \")\n",
    "    x_train_bal, y_train_bal = balance_data(x_train_scaled, y_train, verbose)\n",
    "    if verbose==True:\n",
    "        print(\"for testing data... \")\n",
    "    x_test_bal, y_test_bal = balance_data(x_test_scaled, y_test, verbose)\n",
    "    \n",
    "    return x_train_bal, y_train_bal, x_test_bal, y_test_bal"
   ]
  },
  {
   "cell_type": "markdown",
   "metadata": {},
   "source": [
    "**Q7. What are the appropriate metrics for assessing your model?**\n",
    "These metrics will be used to evaluate each model after training."
   ]
  },
  {
   "cell_type": "markdown",
   "metadata": {},
   "source": [
    "Below are some commonly-used metrics for assessing the value of a given Machine Learning model.\n",
    "\n",
    "\"**True Positive (TP)**\" Is the number of times the model predicts a positive when the observation is actually positive. In our case, the model predicts that its raining when it is actually raining.<br>\n",
    "\"**False Positive (FP)**\" The number of times the model guesses that it's raining when it's not actually raining.<br>\n",
    "The same applies to **True Negatives (TN)** (correctly predicting that it's not raining) and **False Negatives (FN)** (predicting no rain when it's actually raining).\n",
    "\n",
    "\n",
    " - **Precision = TP/(TP + FP)**: The proportion of predicted precipitating events that are actually precipitating.\n",
    " - **Accuracy = (TP + TN)/(total)**: The proportion of precipitating hours or non-precipitating hours that are correctly predicted by the model.\n",
    " - **Recall = TP/(TP + FN)**: The proportion of precipitating hours that are correctly predicted by the model.<br>\n",
    "<br>\n",
    "Other important metrics that we aren't going to look at today:\n",
    " - **F1**: a way to capture how well the model predicts the hours that it's actually precipitating.\n",
    " - **ROC/AUC**: how well the model separates precipitating hours from non-precipitating hours."
   ]
  },
  {
   "cell_type": "code",
   "execution_count": 16,
   "metadata": {},
   "outputs": [],
   "source": [
    "from sklearn import metrics\n",
    "from sklearn.metrics import accuracy_score, f1_score, precision_score, recall_score, roc_auc_score, confusion_matrix\n",
    "import matplotlib.pyplot as plt\n",
    "import seaborn as sns"
   ]
  },
  {
   "cell_type": "code",
   "execution_count": 17,
   "metadata": {},
   "outputs": [],
   "source": [
    "# Print rounded metrics for each model.\n",
    "def bin_metrics(x, y):\n",
    "    \"\"\"Prints accuracy and recall metrics for evaluating \n",
    "    classification predictions.\"\"\"\n",
    "    \n",
    "    accuracy = metrics.accuracy_score(x, y)\n",
    "    recall = metrics.recall_score(x, y)\n",
    "\n",
    "    print('Accuracy:', round(accuracy, 4))\n",
    "    print('Recall:', round(recall, 4))\n",
    "    \n",
    "    return accuracy, recall\n",
    "\n",
    "\n",
    "# Plot confusion matrix\n",
    "def plot_cm(x, y):\n",
    "    \"\"\"Plots the confusion matrix to visualize true \n",
    "    & false positives & negatives\"\"\"\n",
    "    cm = confusion_matrix(x, y)\n",
    "    df_cm = pd.DataFrame(cm, columns=np.unique(x), index = np.unique(x))\n",
    "    df_cm.index.name = 'Actual'\n",
    "    df_cm.columns.name = 'Predicted'\n",
    "    sns.heatmap(df_cm, cmap=\"Blues\", annot=True,annot_kws={\"size\": 25}, fmt='g')# font size\n",
    "    plt.ylim([0, 2])\n",
    "    plt.xticks([0.5, 1.5], ['Negatives','Positives'])\n",
    "    plt.yticks([0.5, 1.5], ['Negatives','Positives'])"
   ]
  },
  {
   "cell_type": "markdown",
   "metadata": {},
   "source": [
    "Another way we can evaluate the models is to compare precipitation likelihood given the same set of atmospheric conditions.  First, let's choose some observation in the pre-scaled dataset shows that it's raining, and then find the corresponding scaled observation:"
   ]
  },
  {
   "cell_type": "code",
   "execution_count": 18,
   "metadata": {},
   "outputs": [],
   "source": [
    "def rand_atmos_conditions_precip(index='rand'):\n",
    "    \"\"\"\n",
    "    Function returns atmospheric conditions in a dataframe as well as the scaled\n",
    "    conditions in a numpy array so that they output a prediction in the model.\n",
    "    \n",
    "    If no input is passed, the function will randomly generate an in index to \n",
    "    choose from those observations in some training data with precipitation. \n",
    "    Otherwise, an integer index between 0 and 200 should be passed.\n",
    "    \"\"\"\n",
    "    # First, perform a test-train split\n",
    "    x_train, x_test, y_train, _ = define_holdout_data(x, y, verbose=False) \n",
    "\n",
    "    # perform feature scaling\n",
    "    _, x_train_scaled, _ = scale_data(x_train, x_test)\n",
    "\n",
    "    # this is what will go into the model to output a prediction\n",
    "    if index=='rand':\n",
    "        index = randint(0,len(y_train[y_train==1].index)) \n",
    "    precipindex = y_train[y_train==1].index.values[index]\n",
    "    testpredictor = x_train_scaled.loc[precipindex] \n",
    "    \n",
    "    return df.iloc[precipindex], testpredictor    "
   ]
  },
  {
   "cell_type": "markdown",
   "metadata": {},
   "source": [
    "## STEP 3: Train & Compare Machine Learning Models\n",
    "Each section below goes through building and training a ML model. In each section, there are a few steps for each model \"pipeline\":\n",
    "1. __Randomly perform a test-train split, feature scaling, and resample data to ensure outcomes are balanced__. \n",
    "2. __Train your model__.\n",
    "3. __Assess model metrics with testing and training data__. We begin by first assessing each model's performance by calculating the metrics defined above on the *testing* or *holdout* data; the key here is that the model has never seen this data. <br>__If applicable, tune your model.__ This means choosing new *hyperparameters*, retraining the model, and then reassessing the same model metrics to see if the model yields better results.\n",
    "3. __Check for model overfitting__. We will also check to see if the model is overfitting by comparing metrics of the testing data to that of the training data. In short, the training data should not be outperforming the testing data.\n",
    "4. __Actually make a prediction with a single observation__. Predicted precipitation probability provides a sanity test for us to make sure the model isn't way off base. It allows us to see for ourselves: given X meteorological conditions and our own understanding of meteorology, would rain seem likely? Is the model actually doing something realistic?"
   ]
  },
  {
   "cell_type": "markdown",
   "metadata": {},
   "source": [
    "## Model 1: Logistic Regression"
   ]
  },
  {
   "cell_type": "code",
   "execution_count": 19,
   "metadata": {},
   "outputs": [],
   "source": [
    "from sklearn.linear_model import LogisticRegression"
   ]
  },
  {
   "cell_type": "code",
   "execution_count": 20,
   "metadata": {},
   "outputs": [
    {
     "name": "stdout",
     "output_type": "stream",
     "text": [
      "Prior to scaling and rebalacing...\n",
      "Shape of training predictors: (7027, 9)\n",
      "Shape of testing predictors: (1757, 9)\n",
      "Shape of training predictands: (7027,)\n",
      "Shape of testing predictands: (1757,)\n",
      " \n",
      "for training data... \n",
      "After scaling and rebalacing...\n",
      "Shape of predictors: (13576, 9)\n",
      "Shape of predictands: (13576,)\n",
      " \n",
      "for testing data... \n",
      "After scaling and rebalacing...\n",
      "Shape of predictors: (3426, 9)\n",
      "Shape of predictands: (3426,)\n",
      " \n"
     ]
    }
   ],
   "source": [
    "## 1. Perform a test-train split, perform feature scaling, and the rebalance our dataset.\n",
    "x_train_bal, y_train_bal, x_test_bal, y_test_bal = dataprep_pipeline(x, y, verbose=True)"
   ]
  },
  {
   "cell_type": "code",
   "execution_count": 21,
   "metadata": {},
   "outputs": [],
   "source": [
    "## 2. Train the Logistic Regression model\n",
    "\n",
    "# initialize the model\n",
    "lr = LogisticRegression(solver='lbfgs') \n",
    "# we choose this particular solver because we're not regularizing or penalizing certain features\n",
    "\n",
    "# fit the model to scaled & balanced training data. Side note: this is where *Gradient Descent* occurs.\n",
    "lr.fit(x_train_bal, y_train_bal);"
   ]
  },
  {
   "cell_type": "code",
   "execution_count": 22,
   "metadata": {},
   "outputs": [
    {
     "name": "stdout",
     "output_type": "stream",
     "text": [
      "Accuracy: 0.8228\n",
      "Recall: 0.8377\n"
     ]
    }
   ],
   "source": [
    "## 3. Assess Logistic Regression's performance using testing data\n",
    "\n",
    "##Now that we've \"trained\" our model, we make predictions using data that the \n",
    "## model has never seen before (i.e., our holdout testing data) to see how it performs.\n",
    "\n",
    "y_pred = lr.predict(x_test_bal)\n",
    "\n",
    "# Call functions defined above to calculate metrics & plot a confusion matrix based on\n",
    "# how well model simulates testing data\n",
    "#plot_cm(y_test_bal, y_pred);\n",
    "lr_acc, lr_rec = bin_metrics(y_test_bal, y_pred)"
   ]
  },
  {
   "cell_type": "markdown",
   "metadata": {},
   "source": [
    "Accuracy tells is the percent of correct predictions, whether precipitating or not. The Logistic Regression model, without any additional tuning, can correctly predict whether it's precipitating or not given a set of present atmospheric conditions around 84% of the time.\n",
    "\n",
    "False Positives are less harmful than False Negatives. Thus, along with accuracy, we should also try to maximize recall.\n",
    "\n",
    "A very important aspect of tuning machine learning model is to ensure the model isn't overfitting or underfitting:\n",
    "An overfit model means the model is fit very well to the training data, but fails to generalize predictions outside the training dataset. A symptom of overfitting is that the models' training accuracy is much better than the testing accuracy. Overfitting can happen more easily in more complex models, like neural networks. To alleviate overfitting, one needs to reduce variance, through feature regularization, lowering model complexity, or performing k-folds cross-validation.\n",
    "\n",
    "Before you dive too deeply into ML and in your own time, I suggest watching this (https://www.youtube.com/watch?v=EuBBz3bI-aA) 6-minute StatQuest YouTube video to develop more intuition for model error."
   ]
  },
  {
   "cell_type": "code",
   "execution_count": 23,
   "metadata": {},
   "outputs": [
    {
     "name": "stdout",
     "output_type": "stream",
     "text": [
      "Training metrics:\n",
      "Accuracy: 0.8505\n",
      "Recall: 0.8755\n",
      " \n",
      "Testing metrics:\n",
      "Accuracy: 0.8228\n",
      "Recall: 0.8377\n"
     ]
    }
   ],
   "source": [
    "##4. Check to see if the Logistic Regression model is overfitting (or underfitting)\n",
    "#Remember:\n",
    "#testing metrics > training metrics = underfitting, model is too simple\n",
    "#testing metrics < training metrics = overfitting, model is too complex\n",
    "\n",
    "# Compare testing data metrics to data training metrics.\n",
    "print(\"Training metrics:\")\n",
    "pred_train= lr.predict(x_train_bal) \n",
    "bin_metrics(y_train_bal,pred_train);\n",
    "\n",
    "# As a reminder, display testing metrics:\n",
    "print(\" \")\n",
    "print(\"Testing metrics:\")\n",
    "bin_metrics(y_test_bal, y_pred);"
   ]
  },
  {
   "cell_type": "code",
   "execution_count": 24,
   "metadata": {},
   "outputs": [
    {
     "name": "stdout",
     "output_type": "stream",
     "text": [
      "temp_F          0.341249\n",
      "RH              0.980024\n",
      "dewtemp_F       0.531746\n",
      "wind_mph        0.000000\n",
      "wind_dir        0.353760\n",
      "windgust        0.000000\n",
      "windgust_dir    0.225627\n",
      "pres_Hg         0.491521\n",
      "SOLIN_Wm2       0.000100\n",
      "Name: 175, dtype: float64\n"
     ]
    }
   ],
   "source": [
    "## 5. Make a prediction with the Logistic Regression model\n",
    "#First, we randomly choose some atmospheric conditions using the function defined above. This will be the atmospheric conditions we use for all models we build.\n",
    "\n",
    "origvals, testpredictor = rand_atmos_conditions_precip()\n",
    "#print(origvals) # observation from original dataframe\n",
    "print(testpredictor) # scaled observation"
   ]
  },
  {
   "cell_type": "code",
   "execution_count": 25,
   "metadata": {
    "scrolled": true
   },
   "outputs": [
    {
     "name": "stdout",
     "output_type": "stream",
     "text": [
      "The meteorological conditions are: \n",
      "day             2016-01-08\n",
      "hour              0.291667\n",
      "temp_F                24.5\n",
      "RH                    90.9\n",
      "dewtemp_F             22.2\n",
      "wind_mph                 0\n",
      "wind_dir               127\n",
      "windgust                 0\n",
      "windgust_dir            81\n",
      "pres_Hg             835.24\n",
      "SOLIN_Wm2              0.1\n",
      "Prec_inches           0.01\n",
      "prec_occur               1\n",
      "Name: 175, dtype: object\n",
      " \n",
      "There is a 65.67% chance of precipitation given those meteorological conditions.\n"
     ]
    }
   ],
   "source": [
    "# prediction output is in the format [probability no rain, probability rain]\n",
    "lr_prediction = lr.predict_proba(np.array(testpredictor).reshape(1, -1))[0][1]*100 \n",
    "print(\"The meteorological conditions are: \")\n",
    "print(origvals)\n",
    "print(\" \")\n",
    "print(\"There is a {0:.{digits}f}% chance of precipitation given those meteorological conditions.\".format(lr_prediction, digits=2))"
   ]
  },
  {
   "cell_type": "markdown",
   "metadata": {},
   "source": [
    "## Model 2: Random Forest\n",
    "\n",
    "To understand random forests, one must first understand a [decision tree](https://scikit-learn.org/stable/modules/tree.html#tree). A decision tree is intuitive: it is essentially a flowchart to point to an outcome based on \"decisions\" for each feature. A Random Forest is an ensemble of decision trees that are randomly constructed based on the features of the dataset and number of decisions. Trees are constructed by randomly choosing a feature to \"seed\" each tree, and then making rules or associations with other features to lead to the specified outcome."
   ]
  },
  {
   "cell_type": "code",
   "execution_count": 26,
   "metadata": {},
   "outputs": [],
   "source": [
    "from sklearn.ensemble import RandomForestClassifier"
   ]
  },
  {
   "cell_type": "code",
   "execution_count": 27,
   "metadata": {},
   "outputs": [],
   "source": [
    "##1. Perform a test-train split, perform feature scaling, and the rebalance our dataset.\n",
    "## Perform a train-test split for cross-validation, perform feature scaling, and \n",
    "## rebalance each testing & training dataset.\n",
    "\n",
    "x_train_bal, y_train_bal, x_test_bal, y_test_bal = dataprep_pipeline(x, y, verbose=False)"
   ]
  },
  {
   "cell_type": "code",
   "execution_count": 28,
   "metadata": {},
   "outputs": [
    {
     "name": "stdout",
     "output_type": "stream",
     "text": [
      "Number of estimators is 10\n",
      "depth is 2\n",
      "depth is 10\n",
      "depth is 100\n",
      "Random Forest took 0.25644397735595703 seconds.\n",
      "Number of estimators is 50\n",
      "depth is 2\n",
      "depth is 10\n",
      "depth is 100\n",
      "Random Forest took 1.115906000137329 seconds.\n",
      "Number of estimators is 500\n",
      "depth is 2\n",
      "depth is 10\n",
      "depth is 100\n",
      "Random Forest took 11.030970096588135 seconds.\n"
     ]
    }
   ],
   "source": [
    "##2. Train (and tuning) the Random Forest model\n",
    "\n",
    "##Choosing hyperparameters: There are many hyperparameters one can decide upon when tuning the \n",
    "## Random Forest classifier. The two we will adjust are: 1) The number of estimators or \"trees\" in the forest\n",
    "## 2) The depth of the tree, or how many \"decisions\" are made until convergence is reached.\n",
    "\n",
    "acc_scores = []\n",
    "rec_scores = []\n",
    "\n",
    "num_est = [10, 50, 500] # number of trees\n",
    "depth = [2, 10, 100] # number of decisions\n",
    "for i in num_est:\n",
    "    start = time.time()\n",
    "    print(\"Number of estimators is \"+str(i))\n",
    "\n",
    "    for k in depth:\n",
    "        print(\"depth is \"+str(k))\n",
    "        forest = RandomForestClassifier(n_estimators=i, max_depth=k)\n",
    "        forest.fit(x_train_bal, y_train_bal)\n",
    "        \n",
    "        # cross validate & evaluate metrics based on testing data\n",
    "        pred_test= forest.predict(x_test_bal)\n",
    "        acc_val = metrics.accuracy_score(y_test_bal, pred_test)\n",
    "        acc_scores.append(acc_val)\n",
    "        rec_val = metrics.recall_score(y_test_bal, pred_test)\n",
    "        rec_scores.append(rec_val)\n",
    "\n",
    "    end = time.time()\n",
    "    print(\"Random Forest took \"+str(end-start)+\" seconds.\")"
   ]
  },
  {
   "cell_type": "code",
   "execution_count": 29,
   "metadata": {},
   "outputs": [
    {
     "name": "stdout",
     "output_type": "stream",
     "text": [
      "Max Accuracy (black): 0.8093\n",
      "Max Recall (blue): 0.7129\n"
     ]
    },
    {
     "data": {
      "image/png": "[encoded data removed]",
      "text/plain": [
       "<Figure size 432x288 with 1 Axes>"
      ]
     },
     "metadata": {
      "needs_background": "light"
     },
     "output_type": "display_data"
    }
   ],
   "source": [
    "### visualize the recall and accuracy scores for the different hyperparameter choices\n",
    "plt.plot(acc_scores, marker='o', color='black',label='accuracy')\n",
    "plt.plot(rec_scores, marker='o', color='blue',label='recall')\n",
    "plt.xlabel('Hyperparameter Choice')\n",
    "plt.ylabel('Score')\n",
    "plt.legend()\n",
    "print(\"Max Accuracy (black):\", round(max(acc_scores), 4))\n",
    "print(\"Max Recall (blue):\", round(max(rec_scores), 4))"
   ]
  },
  {
   "cell_type": "markdown",
   "metadata": {},
   "source": [
    "Which choice of hyperparameters should we pick? Choosing the right hyperparameters for this model requires revisiting which metrics are most important to our question. For this problem, we want to maximize both recall and accuracy.\n",
    "\n",
    "Let's go with the parameters corresponding to x=0 (Looks good for both accuracy and recall!) but try other hyperparameters too (if you have time)"
   ]
  },
  {
   "cell_type": "code",
   "execution_count": 30,
   "metadata": {},
   "outputs": [],
   "source": [
    "forest = RandomForestClassifier(n_estimators=10, max_depth=2);\n",
    "forest.fit(x_train_bal, y_train_bal);"
   ]
  },
  {
   "cell_type": "code",
   "execution_count": 31,
   "metadata": {},
   "outputs": [
    {
     "name": "stdout",
     "output_type": "stream",
     "text": [
      "Accuracy: 0.7842\n",
      "Recall: 0.7476\n"
     ]
    },
    {
     "data": {
      "image/png": "[encoded data removed]",
      "text/plain": [
       "<Figure size 432x288 with 2 Axes>"
      ]
     },
     "metadata": {
      "needs_background": "light"
     },
     "output_type": "display_data"
    }
   ],
   "source": [
    "## 3. Assess the Random Forest's performance using testing data\n",
    "##Once again, we will use our testing data to make an initial evaluation of how the model is doing.\n",
    "\n",
    "pred_test= forest.predict(x_test_bal)\n",
    "\n",
    "# Call functions defined above to calculate metrics & plot a confusion matrix based on\n",
    "# how well model simulates testing data\n",
    "forest_acc, forest_rec = bin_metrics(y_test_bal, pred_test)\n",
    "plot_cm(y_test_bal, pred_test)\n"
   ]
  },
  {
   "cell_type": "code",
   "execution_count": 32,
   "metadata": {},
   "outputs": [
    {
     "name": "stdout",
     "output_type": "stream",
     "text": [
      "Training metrics:\n",
      "Accuracy: 0.7954\n",
      "Recall: 0.7809\n",
      " \n",
      "Testing metrics:\n",
      "Accuracy: 0.7842\n",
      "Recall: 0.7476\n"
     ]
    }
   ],
   "source": [
    "## 4. Check to see if the Random Forest is overfitting (or underfitting)\n",
    "#Remember:\n",
    "#testing metrics > training metrics = underfitting, model is too simple\n",
    "#testing metrics < training metrics = overfitting, model is too complex\n",
    "\n",
    "# Compare testing data metrics to data training metrics.\n",
    "print(\"Training metrics:\")\n",
    "rf_pred_train= forest.predict(x_train_bal) \n",
    "bin_metrics(y_train_bal,rf_pred_train);\n",
    "\n",
    "# As a reminder, display testing metrics:\n",
    "print(\" \")\n",
    "print(\"Testing metrics:\")\n",
    "bin_metrics(y_test_bal, pred_test);"
   ]
  },
  {
   "cell_type": "markdown",
   "metadata": {},
   "source": [
    "WOW - the random forest model was not an improvement over the logistical regression model.\n",
    "\n",
    "Random forests seldom overfit, but if they do, one should try increasing the number of trees, or decreasing the amount of data used to construct each tree. See scikit-learn's Random Forest Classifier webpage (https://scikit-learn.org/stable/modules/generated/sklearn.ensemble.RandomForestClassifier.html) for information on more hyperparameters one can tune to address overfitting."
   ]
  },
  {
   "cell_type": "code",
   "execution_count": 33,
   "metadata": {},
   "outputs": [
    {
     "name": "stdout",
     "output_type": "stream",
     "text": [
      "The meteorological conditions are: \n",
      "day             2016-01-08\n",
      "hour              0.291667\n",
      "temp_F                24.5\n",
      "RH                    90.9\n",
      "dewtemp_F             22.2\n",
      "wind_mph                 0\n",
      "wind_dir               127\n",
      "windgust                 0\n",
      "windgust_dir            81\n",
      "pres_Hg             835.24\n",
      "SOLIN_Wm2              0.1\n",
      "Prec_inches           0.01\n",
      "prec_occur               1\n",
      "Name: 175, dtype: object\n",
      " \n",
      "There is a 69.18% chance of precipitation given those meteorological conditions.\n"
     ]
    }
   ],
   "source": [
    "##5. Make a prediction with the Random Forest\n",
    "\n",
    "# prediction output is in the format [probability no rain, probability rain]\n",
    "forest_prediction = forest.predict_proba(np.array(testpredictor).reshape(1, -1))[0][1]*100 \n",
    "print(\"The meteorological conditions are: \")\n",
    "print(origvals)\n",
    "print(\" \")\n",
    "print(\"There is a {0:.{digits}f}% chance of precipitation given those meteorological conditions.\".format(forest_prediction, digits=2))"
   ]
  },
  {
   "cell_type": "markdown",
   "metadata": {},
   "source": [
    "## Model 3: Support Vector Machines (SVMs)"
   ]
  },
  {
   "cell_type": "markdown",
   "metadata": {},
   "source": [
    "SVMs divide observations into classes based on maximizing the distance between a \"kernel\" (basically a dividing function) and the elements of each feature/class/variable on a plane. Because the relationships between atmospheric variables and precipitation are inherently non-linear, we will choose a non-linear, \"RBF\" kernel."
   ]
  },
  {
   "cell_type": "code",
   "execution_count": 34,
   "metadata": {},
   "outputs": [],
   "source": [
    "from sklearn import svm"
   ]
  },
  {
   "cell_type": "code",
   "execution_count": 35,
   "metadata": {},
   "outputs": [],
   "source": [
    "## 1. Perform a test-train split, perform feature scaling, and the rebalance our dataset.\n",
    "x_train_bal, y_train_bal, x_test_bal, y_test_bal = dataprep_pipeline(x, y, verbose=False)"
   ]
  },
  {
   "cell_type": "markdown",
   "metadata": {},
   "source": [
    "Choosing hyperparameters\n",
    "In the case of SVMs, we can tune \"C\", the regularization parameter. Regularization) penalizes higher-order coefficients during training (i.e., Gradient Descent). Regularization is a way to reduce a model's complexity and address overfitting.\n",
    "\n",
    "In SVMs, the lower the regularization parameter C, the higher the penalty. We are unsure what the C value should be. Thus, we train the model three times, each with a different value of C to see what the best value should be. I highly suggest learning more on regularization if you choose to pursue ML methods on your own."
   ]
  },
  {
   "cell_type": "code",
   "execution_count": 36,
   "metadata": {},
   "outputs": [
    {
     "name": "stdout",
     "output_type": "stream",
     "text": [
      "C is... 0.01\n",
      "Took 18.581321001052856 seconds to train.\n",
      "C is... 1\n",
      "Took 9.170990705490112 seconds to train.\n",
      "C is... 100\n",
      "Took 8.92448878288269 seconds to train.\n"
     ]
    },
    {
     "name": "stderr",
     "output_type": "stream",
     "text": [
      "/Users/brun1463/opt/anaconda3/envs/intro2ml_environment/lib/python3.7/site-packages/sklearn/svm/_base.py:249: ConvergenceWarning: Solver terminated early (max_iter=20000).  Consider pre-processing your data with StandardScaler or MinMaxScaler.\n",
      "  % self.max_iter, ConvergenceWarning)\n"
     ]
    }
   ],
   "source": [
    "## 2. Train (and tune) the SVM (Note: this cell takes ~1 minute to run)\n",
    "\n",
    "acc_scores = []\n",
    "rec_scores = []\n",
    "\n",
    "C_range = [0.01, 1, 100]\n",
    "for i in C_range:\n",
    "    start = time.time()\n",
    "    print(\"C is... \"+str(i))\n",
    "    svmclassifier = svm.SVC(C=i, kernel='rbf', gamma='scale', max_iter=20000, probability=True)\n",
    "    svmclassifier.fit(x_train_bal, y_train_bal)\n",
    "    \n",
    "    # Save model metrics in order to choose best hyperparameter\n",
    "    pred_test= svmclassifier.predict(x_test_bal)\n",
    "    acc_val = metrics.accuracy_score(y_test_bal, pred_test)\n",
    "    acc_scores.append(acc_val)\n",
    "    rec_val = metrics.recall_score(y_test_bal, pred_test)\n",
    "    rec_scores.append(rec_val)\n",
    "\n",
    "    end = time.time()\n",
    "    print(\"Took \"+str(end-start)+\" seconds to train.\")"
   ]
  },
  {
   "cell_type": "code",
   "execution_count": 37,
   "metadata": {},
   "outputs": [
    {
     "name": "stdout",
     "output_type": "stream",
     "text": [
      "Max Accuracy (black): 0.886\n",
      "Max Recall (blue): 0.9305\n"
     ]
    },
    {
     "data": {
      "image/png": "[encoded data removed]",
      "text/plain": [
       "<Figure size 432x288 with 1 Axes>"
      ]
     },
     "metadata": {
      "needs_background": "light"
     },
     "output_type": "display_data"
    }
   ],
   "source": [
    "plt.plot(C_range, acc_scores, marker='o', color='black',label='accuracy')\n",
    "plt.plot(C_range, rec_scores, marker='o', color='blue',label='recall')\n",
    "plt.xlabel('Hyperparameter Choice')\n",
    "plt.xscale('log')\n",
    "plt.ylabel('Score')\n",
    "plt.legend()\n",
    "\n",
    "print(\"Max Accuracy (black):\", round(max(acc_scores), 4))\n",
    "print(\"Max Recall (blue):\", round(max(rec_scores), 4))"
   ]
  },
  {
   "cell_type": "markdown",
   "metadata": {},
   "source": [
    "The SVM with C=1, i.e., a medium weight penalty, results in a balance among accuracy, precision, and recall.\n",
    "We will train our final model with this hyperparameter."
   ]
  },
  {
   "cell_type": "code",
   "execution_count": 38,
   "metadata": {},
   "outputs": [],
   "source": [
    "# Define SVM classifier & fit to training data\n",
    "svmclassifier = svm.SVC(C=1, kernel='rbf', gamma='scale', max_iter=20000, probability=True)\n",
    "svmclassifier.fit(x_train_bal, y_train_bal);"
   ]
  },
  {
   "cell_type": "code",
   "execution_count": 39,
   "metadata": {},
   "outputs": [
    {
     "name": "stdout",
     "output_type": "stream",
     "text": [
      "Accuracy: 0.886\n",
      "Recall: 0.8899\n"
     ]
    },
    {
     "data": {
      "image/png": "[encoded data removed]",
      "text/plain": [
       "<Figure size 432x288 with 2 Axes>"
      ]
     },
     "metadata": {
      "needs_background": "light"
     },
     "output_type": "display_data"
    }
   ],
   "source": [
    "## 3. Assess SVM performance using testing data\n",
    "\n",
    "pred_test= svmclassifier.predict(x_test_bal)\n",
    "\n",
    "# Call functions defined above to calculate metrics & plot a confusion matrix based on\n",
    "# how well model simulates testing data\n",
    "svm_acc, svm_rec = bin_metrics(y_test_bal, pred_test)\n",
    "plot_cm(y_test_bal, pred_test)"
   ]
  },
  {
   "cell_type": "markdown",
   "metadata": {},
   "source": [
    "WOW: using a non-linear Singular Vector Machine instead of a Logistic Regressor increased the recall and accuracy. "
   ]
  },
  {
   "cell_type": "code",
   "execution_count": 40,
   "metadata": {},
   "outputs": [
    {
     "name": "stdout",
     "output_type": "stream",
     "text": [
      "Training metrics:\n",
      "Accuracy: 0.9188\n",
      "Recall: 0.9474\n",
      " \n",
      "Testing metrics:\n",
      "Accuracy: 0.886\n",
      "Recall: 0.8899\n"
     ]
    }
   ],
   "source": [
    "## 4. Check to see if the SVM is overfitting (or underfitting)\n",
    "#Remember:\n",
    "#testing metrics > training metrics = underfitting, model is too simple\n",
    "#testing metrics < training metrics = overfitting, model is too complex\n",
    "\n",
    "# Compare testing data metrics to data training metrics.\n",
    "print(\"Training metrics:\")\n",
    "svm_pred_train= svmclassifier.predict(x_train_bal) \n",
    "bin_metrics(y_train_bal,svm_pred_train);\n",
    "\n",
    "# As a reminder, display testing metrics:\n",
    "print(\" \")\n",
    "print(\"Testing metrics:\")\n",
    "bin_metrics(y_test_bal, pred_test);"
   ]
  },
  {
   "cell_type": "markdown",
   "metadata": {},
   "source": [
    "One can address overfitting in an SVM by changing the kernel to a simpler kernel, or tuning the regularization parameter C."
   ]
  },
  {
   "cell_type": "code",
   "execution_count": 41,
   "metadata": {},
   "outputs": [
    {
     "name": "stdout",
     "output_type": "stream",
     "text": [
      "The meteorological conditions are: \n",
      "day             2016-01-08\n",
      "hour              0.291667\n",
      "temp_F                24.5\n",
      "RH                    90.9\n",
      "dewtemp_F             22.2\n",
      "wind_mph                 0\n",
      "wind_dir               127\n",
      "windgust                 0\n",
      "windgust_dir            81\n",
      "pres_Hg             835.24\n",
      "SOLIN_Wm2              0.1\n",
      "Prec_inches           0.01\n",
      "prec_occur               1\n",
      "Name: 175, dtype: object\n",
      " \n",
      "There is a 89.94% chance of precipitation given those meteorological conditions.\n"
     ]
    }
   ],
   "source": [
    "## 5. Make a prediction with the SVM\n",
    "\n",
    "# prediction output is in the format [probability no rain, probability rain]\n",
    "svm_prediction = svmclassifier.predict_proba(np.array(testpredictor).reshape(1, -1))[0][1]*100 \n",
    "print(\"The meteorological conditions are: \")\n",
    "print(origvals)\n",
    "print(\" \")\n",
    "print(\"There is a {0:.{digits}f}% chance of precipitation given those meteorological conditions.\".format(svm_prediction, digits=2))"
   ]
  },
  {
   "cell_type": "markdown",
   "metadata": {},
   "source": [
    "## Model 4: Neural Network"
   ]
  },
  {
   "cell_type": "markdown",
   "metadata": {},
   "source": [
    "Note: there is a TON of information online about Neural Networks. Eleanor Recommends:\n",
    "1) This three-part series of youtube videos (totaling about an hour in length) https://www.youtube.com/watch?v=aircAruvnKk. \n",
    "\n",
    "2) machinelearningmastery.com In fact, the model below is based off of this blog post (https://machinelearningmastery.com/binary-classification-tutorial-with-the-keras-deep-learning-library/)"
   ]
  },
  {
   "cell_type": "code",
   "execution_count": 42,
   "metadata": {},
   "outputs": [],
   "source": [
    "import tensorflow.keras as keras\n",
    "from tensorflow.keras.models import Sequential\n",
    "from tensorflow.keras.layers import Dense"
   ]
  },
  {
   "cell_type": "code",
   "execution_count": 43,
   "metadata": {},
   "outputs": [],
   "source": [
    "## 1. Perform a test-train split, perform feature scaling, and the rebalance our dataset.\n",
    "x_train_bal, y_train_bal, x_test_bal, y_test_bal = dataprep_pipeline(x, y, verbose=False)\n"
   ]
  },
  {
   "cell_type": "code",
   "execution_count": 44,
   "metadata": {},
   "outputs": [],
   "source": [
    "## 2. Train (and build and compile) the Neural Network\n",
    "## There are lots of hyperparameters here. Please read the comments to guide you in playing with them later!"
   ]
  },
  {
   "cell_type": "code",
   "execution_count": 45,
   "metadata": {},
   "outputs": [],
   "source": [
    "### Build a very simple Neural Network and Compile\n",
    "number_inputs = len(x_train_bal.columns)\n",
    "\n",
    "# create model\n",
    "nn = Sequential()\n",
    "nn.add(Dense(number_inputs, input_dim=number_inputs, activation='relu'))\n",
    "\n",
    "# Try uncommenting this to address overfitting\n",
    "# from keras.regularizers import l2\n",
    "# reg = l2(0.001)\n",
    "# nn.add(Dense(number_inputs, activation='relu',bias_regularizer=reg,activity_regularizer=reg))\n",
    "\n",
    "# try commenting out one and then the other\n",
    "nn.add(Dense(1, activation='sigmoid'))\n",
    "#nn.addDense(1, activation='softmax'))\n",
    "\n",
    "# Compile model \n",
    "# Also try changing the learning rate.\n",
    "learning_rate = 0.001 # only used in the SGD optimizer.\n",
    "\n",
    "# Also try commenting out one & then the other. \n",
    "nn.compile(loss='binary_crossentropy', optimizer='adam', metrics=['accuracy']) \n",
    "#nn.compile(loss='binary_crossentropy', optimizer=keras.optimizers.SGD(lr=learning_rate), metrics=['accuracy']) "
   ]
  },
  {
   "cell_type": "code",
   "execution_count": 46,
   "metadata": {},
   "outputs": [
    {
     "name": "stdout",
     "output_type": "stream",
     "text": [
      "Epoch 1/100\n",
      "567/567 - 0s - loss: 0.6618 - accuracy: 0.5994 - val_loss: 0.5877 - val_accuracy: 0.7280\n",
      "Epoch 2/100\n",
      "567/567 - 0s - loss: 0.5500 - accuracy: 0.7493 - val_loss: 0.4860 - val_accuracy: 0.7753\n",
      "Epoch 3/100\n",
      "567/567 - 0s - loss: 0.4787 - accuracy: 0.7818 - val_loss: 0.4295 - val_accuracy: 0.8249\n",
      "Epoch 4/100\n",
      "567/567 - 0s - loss: 0.4461 - accuracy: 0.7985 - val_loss: 0.4048 - val_accuracy: 0.8478\n",
      "Epoch 5/100\n",
      "567/567 - 0s - loss: 0.4300 - accuracy: 0.8095 - val_loss: 0.3928 - val_accuracy: 0.8367\n",
      "Epoch 6/100\n",
      "567/567 - 0s - loss: 0.4200 - accuracy: 0.8164 - val_loss: 0.3832 - val_accuracy: 0.8540\n",
      "Epoch 7/100\n",
      "567/567 - 0s - loss: 0.4132 - accuracy: 0.8220 - val_loss: 0.3773 - val_accuracy: 0.8616\n",
      "Epoch 8/100\n",
      "567/567 - 0s - loss: 0.4076 - accuracy: 0.8248 - val_loss: 0.3747 - val_accuracy: 0.8437\n",
      "Epoch 9/100\n",
      "567/567 - 0s - loss: 0.4024 - accuracy: 0.8296 - val_loss: 0.3701 - val_accuracy: 0.8519\n",
      "Epoch 10/100\n",
      "567/567 - 0s - loss: 0.3992 - accuracy: 0.8305 - val_loss: 0.3660 - val_accuracy: 0.8613\n",
      "Epoch 11/100\n",
      "567/567 - 0s - loss: 0.3963 - accuracy: 0.8349 - val_loss: 0.3649 - val_accuracy: 0.8519\n",
      "Epoch 12/100\n",
      "567/567 - 0s - loss: 0.3931 - accuracy: 0.8365 - val_loss: 0.3633 - val_accuracy: 0.8543\n",
      "Epoch 13/100\n",
      "567/567 - 0s - loss: 0.3907 - accuracy: 0.8364 - val_loss: 0.3607 - val_accuracy: 0.8599\n",
      "Epoch 14/100\n",
      "567/567 - 0s - loss: 0.3881 - accuracy: 0.8383 - val_loss: 0.3595 - val_accuracy: 0.8572\n",
      "Epoch 15/100\n",
      "567/567 - 0s - loss: 0.3857 - accuracy: 0.8392 - val_loss: 0.3582 - val_accuracy: 0.8543\n",
      "Epoch 16/100\n",
      "567/567 - 0s - loss: 0.3830 - accuracy: 0.8381 - val_loss: 0.3555 - val_accuracy: 0.8575\n",
      "Epoch 17/100\n",
      "567/567 - 0s - loss: 0.3795 - accuracy: 0.8416 - val_loss: 0.3553 - val_accuracy: 0.8596\n",
      "Epoch 18/100\n",
      "567/567 - 0s - loss: 0.3768 - accuracy: 0.8428 - val_loss: 0.3522 - val_accuracy: 0.8590\n",
      "Epoch 19/100\n",
      "567/567 - 0s - loss: 0.3738 - accuracy: 0.8445 - val_loss: 0.3498 - val_accuracy: 0.8657\n",
      "Epoch 20/100\n",
      "567/567 - 0s - loss: 0.3711 - accuracy: 0.8447 - val_loss: 0.3488 - val_accuracy: 0.8596\n",
      "Epoch 21/100\n",
      "567/567 - 0s - loss: 0.3683 - accuracy: 0.8468 - val_loss: 0.3480 - val_accuracy: 0.8572\n",
      "Epoch 22/100\n",
      "567/567 - 0s - loss: 0.3660 - accuracy: 0.8470 - val_loss: 0.3458 - val_accuracy: 0.8640\n",
      "Epoch 23/100\n",
      "567/567 - 0s - loss: 0.3632 - accuracy: 0.8478 - val_loss: 0.3429 - val_accuracy: 0.8713\n",
      "Epoch 24/100\n",
      "567/567 - 0s - loss: 0.3614 - accuracy: 0.8481 - val_loss: 0.3415 - val_accuracy: 0.8707\n",
      "Epoch 25/100\n",
      "567/567 - 0s - loss: 0.3590 - accuracy: 0.8488 - val_loss: 0.3395 - val_accuracy: 0.8681\n",
      "Epoch 26/100\n",
      "567/567 - 0s - loss: 0.3570 - accuracy: 0.8505 - val_loss: 0.3413 - val_accuracy: 0.8640\n",
      "Epoch 27/100\n",
      "567/567 - 0s - loss: 0.3550 - accuracy: 0.8526 - val_loss: 0.3374 - val_accuracy: 0.8696\n",
      "Epoch 28/100\n",
      "567/567 - 0s - loss: 0.3524 - accuracy: 0.8531 - val_loss: 0.3355 - val_accuracy: 0.8681\n",
      "Epoch 29/100\n",
      "567/567 - 0s - loss: 0.3496 - accuracy: 0.8529 - val_loss: 0.3332 - val_accuracy: 0.8813\n",
      "Epoch 30/100\n",
      "567/567 - 0s - loss: 0.3471 - accuracy: 0.8548 - val_loss: 0.3318 - val_accuracy: 0.8810\n",
      "Epoch 31/100\n",
      "567/567 - 0s - loss: 0.3443 - accuracy: 0.8570 - val_loss: 0.3328 - val_accuracy: 0.8678\n",
      "Epoch 32/100\n",
      "567/567 - 0s - loss: 0.3411 - accuracy: 0.8576 - val_loss: 0.3300 - val_accuracy: 0.8743\n",
      "Epoch 33/100\n",
      "567/567 - 0s - loss: 0.3380 - accuracy: 0.8571 - val_loss: 0.3274 - val_accuracy: 0.8804\n",
      "Epoch 34/100\n",
      "567/567 - 0s - loss: 0.3351 - accuracy: 0.8585 - val_loss: 0.3308 - val_accuracy: 0.8857\n",
      "Epoch 35/100\n",
      "567/567 - 0s - loss: 0.3325 - accuracy: 0.8584 - val_loss: 0.3262 - val_accuracy: 0.8825\n",
      "Epoch 36/100\n",
      "567/567 - 0s - loss: 0.3303 - accuracy: 0.8584 - val_loss: 0.3255 - val_accuracy: 0.8851\n",
      "Epoch 37/100\n",
      "567/567 - 0s - loss: 0.3279 - accuracy: 0.8592 - val_loss: 0.3241 - val_accuracy: 0.8863\n",
      "Epoch 38/100\n",
      "567/567 - 0s - loss: 0.3261 - accuracy: 0.8594 - val_loss: 0.3259 - val_accuracy: 0.8757\n",
      "Epoch 39/100\n",
      "567/567 - 0s - loss: 0.3248 - accuracy: 0.8601 - val_loss: 0.3237 - val_accuracy: 0.8831\n",
      "Epoch 40/100\n",
      "567/567 - 0s - loss: 0.3229 - accuracy: 0.8617 - val_loss: 0.3223 - val_accuracy: 0.8878\n",
      "Epoch 41/100\n",
      "567/567 - 0s - loss: 0.3217 - accuracy: 0.8608 - val_loss: 0.3214 - val_accuracy: 0.8928\n",
      "Epoch 42/100\n",
      "567/567 - 0s - loss: 0.3202 - accuracy: 0.8625 - val_loss: 0.3202 - val_accuracy: 0.8989\n",
      "Epoch 43/100\n",
      "567/567 - 0s - loss: 0.3193 - accuracy: 0.8612 - val_loss: 0.3199 - val_accuracy: 0.8984\n",
      "Epoch 44/100\n",
      "567/567 - 0s - loss: 0.3181 - accuracy: 0.8617 - val_loss: 0.3198 - val_accuracy: 0.8969\n",
      "Epoch 45/100\n",
      "567/567 - 0s - loss: 0.3171 - accuracy: 0.8617 - val_loss: 0.3233 - val_accuracy: 0.8766\n",
      "Epoch 46/100\n",
      "567/567 - 0s - loss: 0.3163 - accuracy: 0.8619 - val_loss: 0.3187 - val_accuracy: 0.8872\n",
      "Epoch 47/100\n",
      "567/567 - 0s - loss: 0.3158 - accuracy: 0.8631 - val_loss: 0.3161 - val_accuracy: 0.8963\n",
      "Epoch 48/100\n",
      "567/567 - 0s - loss: 0.3143 - accuracy: 0.8637 - val_loss: 0.3190 - val_accuracy: 0.9025\n",
      "Epoch 49/100\n",
      "567/567 - 0s - loss: 0.3142 - accuracy: 0.8658 - val_loss: 0.3167 - val_accuracy: 0.8904\n",
      "Epoch 50/100\n",
      "567/567 - 0s - loss: 0.3128 - accuracy: 0.8651 - val_loss: 0.3156 - val_accuracy: 0.8986\n",
      "Epoch 51/100\n",
      "567/567 - 0s - loss: 0.3124 - accuracy: 0.8654 - val_loss: 0.3161 - val_accuracy: 0.8890\n",
      "Epoch 52/100\n",
      "567/567 - 0s - loss: 0.3115 - accuracy: 0.8670 - val_loss: 0.3174 - val_accuracy: 0.8848\n",
      "Epoch 53/100\n",
      "567/567 - 0s - loss: 0.3114 - accuracy: 0.8642 - val_loss: 0.3204 - val_accuracy: 0.8787\n",
      "Epoch 54/100\n",
      "567/567 - 0s - loss: 0.3106 - accuracy: 0.8641 - val_loss: 0.3146 - val_accuracy: 0.9004\n",
      "Epoch 55/100\n",
      "567/567 - 0s - loss: 0.3101 - accuracy: 0.8647 - val_loss: 0.3157 - val_accuracy: 0.8937\n",
      "Epoch 56/100\n",
      "567/567 - 0s - loss: 0.3096 - accuracy: 0.8653 - val_loss: 0.3158 - val_accuracy: 0.9013\n",
      "Epoch 57/100\n",
      "567/567 - 0s - loss: 0.3089 - accuracy: 0.8629 - val_loss: 0.3152 - val_accuracy: 0.9022\n",
      "Epoch 58/100\n",
      "567/567 - 0s - loss: 0.3087 - accuracy: 0.8651 - val_loss: 0.3145 - val_accuracy: 0.8939\n",
      "Epoch 59/100\n",
      "567/567 - 0s - loss: 0.3080 - accuracy: 0.8646 - val_loss: 0.3145 - val_accuracy: 0.8895\n",
      "Epoch 60/100\n",
      "567/567 - 0s - loss: 0.3080 - accuracy: 0.8652 - val_loss: 0.3151 - val_accuracy: 0.8875\n",
      "Epoch 61/100\n",
      "567/567 - 0s - loss: 0.3076 - accuracy: 0.8642 - val_loss: 0.3148 - val_accuracy: 0.9022\n",
      "Epoch 62/100\n",
      "567/567 - 0s - loss: 0.3068 - accuracy: 0.8641 - val_loss: 0.3198 - val_accuracy: 0.8816\n",
      "Epoch 63/100\n",
      "567/567 - 0s - loss: 0.3057 - accuracy: 0.8657 - val_loss: 0.3152 - val_accuracy: 0.8881\n",
      "Epoch 64/100\n",
      "567/567 - 0s - loss: 0.3063 - accuracy: 0.8634 - val_loss: 0.3140 - val_accuracy: 0.9019\n",
      "Epoch 65/100\n",
      "567/567 - 0s - loss: 0.3053 - accuracy: 0.8655 - val_loss: 0.3138 - val_accuracy: 0.8860\n",
      "Epoch 66/100\n",
      "567/567 - 0s - loss: 0.3053 - accuracy: 0.8679 - val_loss: 0.3123 - val_accuracy: 0.8969\n",
      "Epoch 67/100\n",
      "567/567 - 0s - loss: 0.3049 - accuracy: 0.8656 - val_loss: 0.3121 - val_accuracy: 0.9036\n",
      "Epoch 68/100\n",
      "567/567 - 0s - loss: 0.3044 - accuracy: 0.8647 - val_loss: 0.3122 - val_accuracy: 0.9007\n",
      "Epoch 69/100\n",
      "567/567 - 0s - loss: 0.3042 - accuracy: 0.8670 - val_loss: 0.3096 - val_accuracy: 0.8966\n",
      "Epoch 70/100\n",
      "567/567 - 0s - loss: 0.3043 - accuracy: 0.8670 - val_loss: 0.3100 - val_accuracy: 0.9013\n",
      "Epoch 71/100\n",
      "567/567 - 0s - loss: 0.3032 - accuracy: 0.8671 - val_loss: 0.3118 - val_accuracy: 0.9010\n",
      "Epoch 72/100\n",
      "567/567 - 0s - loss: 0.3033 - accuracy: 0.8661 - val_loss: 0.3117 - val_accuracy: 0.8866\n",
      "Epoch 73/100\n",
      "567/567 - 0s - loss: 0.3030 - accuracy: 0.8674 - val_loss: 0.3091 - val_accuracy: 0.8957\n",
      "Epoch 74/100\n",
      "567/567 - 0s - loss: 0.3028 - accuracy: 0.8680 - val_loss: 0.3099 - val_accuracy: 0.9031\n",
      "Epoch 75/100\n",
      "567/567 - 0s - loss: 0.3025 - accuracy: 0.8679 - val_loss: 0.3107 - val_accuracy: 0.8843\n",
      "Epoch 76/100\n",
      "567/567 - 0s - loss: 0.3019 - accuracy: 0.8690 - val_loss: 0.3101 - val_accuracy: 0.9019\n",
      "Epoch 77/100\n",
      "567/567 - 0s - loss: 0.3019 - accuracy: 0.8678 - val_loss: 0.3080 - val_accuracy: 0.9031\n",
      "Epoch 78/100\n",
      "567/567 - 0s - loss: 0.3012 - accuracy: 0.8681 - val_loss: 0.3082 - val_accuracy: 0.8890\n",
      "Epoch 79/100\n",
      "567/567 - 0s - loss: 0.3012 - accuracy: 0.8691 - val_loss: 0.3074 - val_accuracy: 0.8986\n",
      "Epoch 80/100\n",
      "567/567 - 0s - loss: 0.3010 - accuracy: 0.8676 - val_loss: 0.3064 - val_accuracy: 0.8931\n",
      "Epoch 81/100\n",
      "567/567 - 0s - loss: 0.3003 - accuracy: 0.8712 - val_loss: 0.3085 - val_accuracy: 0.8863\n"
     ]
    },
    {
     "name": "stdout",
     "output_type": "stream",
     "text": [
      "Epoch 82/100\n",
      "567/567 - 0s - loss: 0.3006 - accuracy: 0.8698 - val_loss: 0.3062 - val_accuracy: 0.8925\n",
      "Epoch 83/100\n",
      "567/567 - 0s - loss: 0.3003 - accuracy: 0.8684 - val_loss: 0.3058 - val_accuracy: 0.8913\n",
      "Epoch 84/100\n",
      "567/567 - 0s - loss: 0.3002 - accuracy: 0.8686 - val_loss: 0.3051 - val_accuracy: 0.8984\n",
      "Epoch 85/100\n",
      "567/567 - 0s - loss: 0.2997 - accuracy: 0.8687 - val_loss: 0.3049 - val_accuracy: 0.9004\n",
      "Epoch 86/100\n",
      "567/567 - 0s - loss: 0.3000 - accuracy: 0.8703 - val_loss: 0.3076 - val_accuracy: 0.8922\n",
      "Epoch 87/100\n",
      "567/567 - 0s - loss: 0.2991 - accuracy: 0.8694 - val_loss: 0.3036 - val_accuracy: 0.9001\n",
      "Epoch 88/100\n",
      "567/567 - 0s - loss: 0.2994 - accuracy: 0.8717 - val_loss: 0.3043 - val_accuracy: 0.9031\n",
      "Epoch 89/100\n",
      "567/567 - 0s - loss: 0.2997 - accuracy: 0.8696 - val_loss: 0.3033 - val_accuracy: 0.8945\n",
      "Epoch 90/100\n",
      "567/567 - 0s - loss: 0.2989 - accuracy: 0.8709 - val_loss: 0.3032 - val_accuracy: 0.8910\n",
      "Epoch 91/100\n",
      "567/567 - 0s - loss: 0.2987 - accuracy: 0.8706 - val_loss: 0.3034 - val_accuracy: 0.8939\n",
      "Epoch 92/100\n",
      "567/567 - 0s - loss: 0.2984 - accuracy: 0.8712 - val_loss: 0.3032 - val_accuracy: 0.8904\n",
      "Epoch 93/100\n",
      "567/567 - 0s - loss: 0.2987 - accuracy: 0.8699 - val_loss: 0.3034 - val_accuracy: 0.8913\n",
      "Epoch 94/100\n",
      "567/567 - 0s - loss: 0.2984 - accuracy: 0.8716 - val_loss: 0.3029 - val_accuracy: 0.9007\n",
      "Epoch 95/100\n",
      "567/567 - 0s - loss: 0.2979 - accuracy: 0.8714 - val_loss: 0.3017 - val_accuracy: 0.8919\n",
      "Epoch 96/100\n",
      "567/567 - 0s - loss: 0.2978 - accuracy: 0.8698 - val_loss: 0.3024 - val_accuracy: 0.8978\n",
      "Epoch 97/100\n",
      "567/567 - 0s - loss: 0.2976 - accuracy: 0.8720 - val_loss: 0.3023 - val_accuracy: 0.9028\n",
      "Epoch 98/100\n",
      "567/567 - 0s - loss: 0.2974 - accuracy: 0.8703 - val_loss: 0.3019 - val_accuracy: 0.8919\n",
      "Epoch 99/100\n",
      "567/567 - 0s - loss: 0.2971 - accuracy: 0.8703 - val_loss: 0.3011 - val_accuracy: 0.8937\n",
      "Epoch 100/100\n",
      "567/567 - 0s - loss: 0.2974 - accuracy: 0.8712 - val_loss: 0.3021 - val_accuracy: 0.8895\n",
      "Neural Network took 30.809741973876953 seconds to train.\n"
     ]
    }
   ],
   "source": [
    "### Actually training the model\n",
    "\n",
    "batch_size = 24 # The number of samples the network sees before it backpropagates (batch size) # 24 & 32 yield accuracy = 87%\n",
    "epochs = 100 # The number of times the network will loop through the entire dataset (epochs)\n",
    "shuffle = True # Set whether to shuffle the training data so the model doesn't see it sequentially \n",
    "verbose = 2 # Set whether the model will output information when trained (0 = no output; 2 = output accuracy every epoch)\n",
    "\n",
    "# Train the neural network!\n",
    "start = time.time()\n",
    "\n",
    "history = nn.fit(x_train_bal, y_train_bal, validation_data=(x_test_bal, y_test_bal), \n",
    "          batch_size=batch_size, epochs=epochs, shuffle=shuffle, verbose=verbose)\n",
    "\n",
    "end = time.time()\n",
    "print(\"Neural Network took \"+str(end-start)+\" seconds to train.\")"
   ]
  },
  {
   "cell_type": "code",
   "execution_count": 47,
   "metadata": {},
   "outputs": [
    {
     "data": {
      "image/png": "[encoded data removed]",
      "text/plain": [
       "<Figure size 432x288 with 2 Axes>"
      ]
     },
     "metadata": {
      "needs_background": "light"
     },
     "output_type": "display_data"
    }
   ],
   "source": [
    "#Accuracy & loss with epochs\n",
    "#Neural networks train in epochs. During each epoch, the model trains by sweeping over each layer, \n",
    "#adjusting weights based on their resulting errors, through processes called forward propagation and backpropagation. \n",
    "#By plotting the model accuracy & loss which each epoch, we can visualize how the model error evolves with training.\n",
    "\n",
    "figure, axes = plt.subplots(nrows=2,ncols=1)\n",
    "figure.tight_layout(pad=3.0)\n",
    "\n",
    "# plot accuracy during training\n",
    "plt.subplot(211)\n",
    "plt.title('Accuracy')\n",
    "plt.plot(history.history['accuracy'], label='train')\n",
    "plt.plot(history.history['val_accuracy'], label='test')\n",
    "plt.legend();\n",
    "\n",
    "# plot loss during training\n",
    "plt.subplot(212)\n",
    "plt.title('Loss')\n",
    "plt.plot(history.history['loss'], label='train')\n",
    "plt.plot(history.history['val_loss'], label='test')\n",
    "plt.xlabel(\"Epoch\");\n",
    "plt.legend()\n",
    "plt.show();"
   ]
  },
  {
   "cell_type": "code",
   "execution_count": 48,
   "metadata": {},
   "outputs": [
    {
     "name": "stdout",
     "output_type": "stream",
     "text": [
      "Accuracy: 0.8895\n",
      "Recall: 0.933\n"
     ]
    },
    {
     "data": {
      "image/png": "[encoded data removed]",
      "text/plain": [
       "<Figure size 432x288 with 2 Axes>"
      ]
     },
     "metadata": {
      "needs_background": "light"
     },
     "output_type": "display_data"
    }
   ],
   "source": [
    "##3. Assess Neural Network's performance using testing data\n",
    "## Though the accuracy is pictured above, additionally quantify recall on testing data with the \n",
    "## same functions used previously to remain consistent\n",
    "\n",
    "pred_test= (nn.predict(x_test_bal)>0.5).astype(\"int32\")\n",
    "nn_acc, nn_rec = bin_metrics(y_test_bal, pred_test)\n",
    "plot_cm(y_test_bal, pred_test)"
   ]
  },
  {
   "cell_type": "code",
   "execution_count": 49,
   "metadata": {},
   "outputs": [
    {
     "name": "stdout",
     "output_type": "stream",
     "text": [
      "Training metrics:\n",
      "Accuracy: 0.879\n",
      "Recall: 0.9087\n",
      " \n",
      "Testing metrics:\n",
      "Accuracy: 0.8895\n",
      "Recall: 0.933\n"
     ]
    }
   ],
   "source": [
    "## 4. Check to see if the Neural Network is overfitting (or underfitting)\n",
    "#Remember:\n",
    "#testing metrics > training metrics = underfitting, model is too simple\n",
    "#testing metrics < training metrics = overfitting, model is too complex\n",
    "\n",
    "#Note: Neural networks can easily overfit because they are complex and can fit to the training data extremely well, \n",
    "# Overfitting prevents neural networks from generalizing to other data (like the testing data).\n",
    "\n",
    "# Compare testing data metrics to data training metrics.\n",
    "print(\"Training metrics:\")\n",
    "nn_pred_train= (nn.predict(x_train_bal)>0.5).astype(\"int32\")\n",
    "bin_metrics(y_train_bal,nn_pred_train);\n",
    "\n",
    "# As a reminder, display testing metrics:\n",
    "print(\" \")\n",
    "print(\"Testing metrics:\")\n",
    "bin_metrics(y_test_bal, pred_test);"
   ]
  },
  {
   "cell_type": "code",
   "execution_count": 50,
   "metadata": {},
   "outputs": [
    {
     "name": "stdout",
     "output_type": "stream",
     "text": [
      "The meteorological conditions are: \n",
      "day             2016-01-08\n",
      "hour              0.291667\n",
      "temp_F                24.5\n",
      "RH                    90.9\n",
      "dewtemp_F             22.2\n",
      "wind_mph                 0\n",
      "wind_dir               127\n",
      "windgust                 0\n",
      "windgust_dir            81\n",
      "pres_Hg             835.24\n",
      "SOLIN_Wm2              0.1\n",
      "Prec_inches           0.01\n",
      "prec_occur               1\n",
      "Name: 175, dtype: object\n",
      "There is a 69.57% chance of precipitation given those meteorological conditions.\n"
     ]
    }
   ],
   "source": [
    "## 5. Make a prediction with the Neural Network\n",
    "\n",
    "# prediction output is in the format [probability no rain, probability rain]\n",
    "nn_prediction = nn.predict(np.array(testpredictor).reshape(1, -1))[0][0]*100\n",
    "print(\"The meteorological conditions are: \")\n",
    "print(origvals)\n",
    "print(\"There is a {0:.{digits}f}% chance of precipitation given those meteorological conditions.\".format(nn_prediction, digits=2))\n"
   ]
  },
  {
   "cell_type": "markdown",
   "metadata": {},
   "source": [
    "## SUMMARY: Compare all Four Machine Learning Models"
   ]
  },
  {
   "cell_type": "code",
   "execution_count": 51,
   "metadata": {},
   "outputs": [
    {
     "data": {
      "text/html": [
       "<div>\n",
       "<style scoped>\n",
       "    .dataframe tbody tr th:only-of-type {\n",
       "        vertical-align: middle;\n",
       "    }\n",
       "\n",
       "    .dataframe tbody tr th {\n",
       "        vertical-align: top;\n",
       "    }\n",
       "\n",
       "    .dataframe thead th {\n",
       "        text-align: right;\n",
       "    }\n",
       "</style>\n",
       "<table border=\"1\" class=\"dataframe\">\n",
       "  <thead>\n",
       "    <tr style=\"text-align: right;\">\n",
       "      <th></th>\n",
       "      <th>Logistic Regression</th>\n",
       "      <th>Random Forest</th>\n",
       "      <th>Singular Vector Machine</th>\n",
       "      <th>Neural Network</th>\n",
       "    </tr>\n",
       "    <tr>\n",
       "      <th>Metrics</th>\n",
       "      <th></th>\n",
       "      <th></th>\n",
       "      <th></th>\n",
       "      <th></th>\n",
       "    </tr>\n",
       "  </thead>\n",
       "  <tbody>\n",
       "    <tr>\n",
       "      <th>Accuracy</th>\n",
       "      <td>0.822825</td>\n",
       "      <td>0.784198</td>\n",
       "      <td>0.886042</td>\n",
       "      <td>0.889542</td>\n",
       "    </tr>\n",
       "    <tr>\n",
       "      <th>Recall</th>\n",
       "      <td>0.837712</td>\n",
       "      <td>0.747642</td>\n",
       "      <td>0.889870</td>\n",
       "      <td>0.933020</td>\n",
       "    </tr>\n",
       "    <tr>\n",
       "      <th>Prediction example</th>\n",
       "      <td>65.669118</td>\n",
       "      <td>69.184664</td>\n",
       "      <td>89.938962</td>\n",
       "      <td>69.568777</td>\n",
       "    </tr>\n",
       "  </tbody>\n",
       "</table>\n",
       "</div>"
      ],
      "text/plain": [
       "                    Logistic Regression  Random Forest  \\\n",
       "Metrics                                                  \n",
       "Accuracy                       0.822825       0.784198   \n",
       "Recall                         0.837712       0.747642   \n",
       "Prediction example            65.669118      69.184664   \n",
       "\n",
       "                    Singular Vector Machine  Neural Network  \n",
       "Metrics                                                      \n",
       "Accuracy                           0.886042        0.889542  \n",
       "Recall                             0.889870        0.933020  \n",
       "Prediction example                89.938962       69.568777  "
      ]
     },
     "execution_count": 51,
     "metadata": {},
     "output_type": "execute_result"
    }
   ],
   "source": [
    "model_metrics = pd.DataFrame({'Metrics':['Accuracy','Recall','Prediction example'],\n",
    "     'Logistic Regression':[lr_acc, lr_rec, lr_prediction],\n",
    "    'Random Forest':[forest_acc, forest_rec, forest_prediction],\n",
    "    'Singular Vector Machine':[svm_acc, svm_rec, svm_prediction],\n",
    "    'Neural Network':[nn_acc, nn_rec, nn_prediction]})\n",
    "model_metrics = model_metrics.set_index('Metrics')\n",
    "model_metrics"
   ]
  },
  {
   "cell_type": "markdown",
   "metadata": {},
   "source": [
    "## STEP 4: Assess Feature Importance\n",
    "\n",
    "Note: Feature Importance is not possible with non-linear Singular Vector Machines because the data is transformed by the kernel into another space that is unrelated to the input space."
   ]
  },
  {
   "cell_type": "code",
   "execution_count": 52,
   "metadata": {},
   "outputs": [
    {
     "data": {
      "text/html": [
       "<div>\n",
       "<style scoped>\n",
       "    .dataframe tbody tr th:only-of-type {\n",
       "        vertical-align: middle;\n",
       "    }\n",
       "\n",
       "    .dataframe tbody tr th {\n",
       "        vertical-align: top;\n",
       "    }\n",
       "\n",
       "    .dataframe thead th {\n",
       "        text-align: right;\n",
       "    }\n",
       "</style>\n",
       "<table border=\"1\" class=\"dataframe\">\n",
       "  <thead>\n",
       "    <tr style=\"text-align: right;\">\n",
       "      <th></th>\n",
       "      <th>importance</th>\n",
       "    </tr>\n",
       "  </thead>\n",
       "  <tbody>\n",
       "    <tr>\n",
       "      <th>RH</th>\n",
       "      <td>9.845710</td>\n",
       "    </tr>\n",
       "    <tr>\n",
       "      <th>windgust</th>\n",
       "      <td>8.178463</td>\n",
       "    </tr>\n",
       "    <tr>\n",
       "      <th>temp_F</th>\n",
       "      <td>3.860361</td>\n",
       "    </tr>\n",
       "    <tr>\n",
       "      <th>SOLIN_Wm2</th>\n",
       "      <td>1.387510</td>\n",
       "    </tr>\n",
       "    <tr>\n",
       "      <th>pres_Hg</th>\n",
       "      <td>1.336064</td>\n",
       "    </tr>\n",
       "    <tr>\n",
       "      <th>wind_mph</th>\n",
       "      <td>0.969881</td>\n",
       "    </tr>\n",
       "    <tr>\n",
       "      <th>windgust_dir</th>\n",
       "      <td>0.259851</td>\n",
       "    </tr>\n",
       "    <tr>\n",
       "      <th>dewtemp_F</th>\n",
       "      <td>0.119184</td>\n",
       "    </tr>\n",
       "    <tr>\n",
       "      <th>wind_dir</th>\n",
       "      <td>0.044479</td>\n",
       "    </tr>\n",
       "  </tbody>\n",
       "</table>\n",
       "</div>"
      ],
      "text/plain": [
       "              importance\n",
       "RH              9.845710\n",
       "windgust        8.178463\n",
       "temp_F          3.860361\n",
       "SOLIN_Wm2       1.387510\n",
       "pres_Hg         1.336064\n",
       "wind_mph        0.969881\n",
       "windgust_dir    0.259851\n",
       "dewtemp_F       0.119184\n",
       "wind_dir        0.044479"
      ]
     },
     "execution_count": 52,
     "metadata": {},
     "output_type": "execute_result"
    }
   ],
   "source": [
    "## Feature importance in Logistical Regression Model\n",
    "\n",
    "pd.DataFrame(abs(lr.coef_[0]),\n",
    "             index = x.columns,\n",
    "             columns=['importance']).sort_values('importance',ascending=False)"
   ]
  },
  {
   "cell_type": "code",
   "execution_count": 53,
   "metadata": {},
   "outputs": [
    {
     "data": {
      "text/html": [
       "<div>\n",
       "<style scoped>\n",
       "    .dataframe tbody tr th:only-of-type {\n",
       "        vertical-align: middle;\n",
       "    }\n",
       "\n",
       "    .dataframe tbody tr th {\n",
       "        vertical-align: top;\n",
       "    }\n",
       "\n",
       "    .dataframe thead th {\n",
       "        text-align: right;\n",
       "    }\n",
       "</style>\n",
       "<table border=\"1\" class=\"dataframe\">\n",
       "  <thead>\n",
       "    <tr style=\"text-align: right;\">\n",
       "      <th></th>\n",
       "      <th>importance</th>\n",
       "    </tr>\n",
       "  </thead>\n",
       "  <tbody>\n",
       "    <tr>\n",
       "      <th>RH</th>\n",
       "      <td>0.485710</td>\n",
       "    </tr>\n",
       "    <tr>\n",
       "      <th>SOLIN_Wm2</th>\n",
       "      <td>0.131827</td>\n",
       "    </tr>\n",
       "    <tr>\n",
       "      <th>temp_F</th>\n",
       "      <td>0.114342</td>\n",
       "    </tr>\n",
       "    <tr>\n",
       "      <th>wind_mph</th>\n",
       "      <td>0.107851</td>\n",
       "    </tr>\n",
       "    <tr>\n",
       "      <th>windgust</th>\n",
       "      <td>0.099603</td>\n",
       "    </tr>\n",
       "    <tr>\n",
       "      <th>dewtemp_F</th>\n",
       "      <td>0.034371</td>\n",
       "    </tr>\n",
       "    <tr>\n",
       "      <th>wind_dir</th>\n",
       "      <td>0.026295</td>\n",
       "    </tr>\n",
       "    <tr>\n",
       "      <th>windgust_dir</th>\n",
       "      <td>0.000000</td>\n",
       "    </tr>\n",
       "    <tr>\n",
       "      <th>pres_Hg</th>\n",
       "      <td>0.000000</td>\n",
       "    </tr>\n",
       "  </tbody>\n",
       "</table>\n",
       "</div>"
      ],
      "text/plain": [
       "              importance\n",
       "RH              0.485710\n",
       "SOLIN_Wm2       0.131827\n",
       "temp_F          0.114342\n",
       "wind_mph        0.107851\n",
       "windgust        0.099603\n",
       "dewtemp_F       0.034371\n",
       "wind_dir        0.026295\n",
       "windgust_dir    0.000000\n",
       "pres_Hg         0.000000"
      ]
     },
     "execution_count": 53,
     "metadata": {},
     "output_type": "execute_result"
    }
   ],
   "source": [
    "## Feature importance in Random Forest Model\n",
    "\n",
    "pd.DataFrame(forest.feature_importances_,\n",
    "                                   index = x.columns, \n",
    "                                   columns=['importance']).sort_values('importance', ascending=False)"
   ]
  },
  {
   "cell_type": "code",
   "execution_count": 54,
   "metadata": {},
   "outputs": [
    {
     "data": {
      "text/html": [
       "<div>\n",
       "<style scoped>\n",
       "    .dataframe tbody tr th:only-of-type {\n",
       "        vertical-align: middle;\n",
       "    }\n",
       "\n",
       "    .dataframe tbody tr th {\n",
       "        vertical-align: top;\n",
       "    }\n",
       "\n",
       "    .dataframe thead th {\n",
       "        text-align: right;\n",
       "    }\n",
       "</style>\n",
       "<table border=\"1\" class=\"dataframe\">\n",
       "  <thead>\n",
       "    <tr style=\"text-align: right;\">\n",
       "      <th></th>\n",
       "      <th>importance</th>\n",
       "    </tr>\n",
       "  </thead>\n",
       "  <tbody>\n",
       "    <tr>\n",
       "      <th>RH</th>\n",
       "      <td>96.662778</td>\n",
       "    </tr>\n",
       "    <tr>\n",
       "      <th>wind_mph</th>\n",
       "      <td>75.967526</td>\n",
       "    </tr>\n",
       "    <tr>\n",
       "      <th>SOLIN_Wm2</th>\n",
       "      <td>50.980961</td>\n",
       "    </tr>\n",
       "    <tr>\n",
       "      <th>windgust</th>\n",
       "      <td>8.900958</td>\n",
       "    </tr>\n",
       "    <tr>\n",
       "      <th>dewtemp_F</th>\n",
       "      <td>0.088444</td>\n",
       "    </tr>\n",
       "    <tr>\n",
       "      <th>temp_F</th>\n",
       "      <td>0.022617</td>\n",
       "    </tr>\n",
       "    <tr>\n",
       "      <th>wind_dir</th>\n",
       "      <td>0.013927</td>\n",
       "    </tr>\n",
       "    <tr>\n",
       "      <th>windgust_dir</th>\n",
       "      <td>0.001731</td>\n",
       "    </tr>\n",
       "    <tr>\n",
       "      <th>pres_Hg</th>\n",
       "      <td>0.001669</td>\n",
       "    </tr>\n",
       "  </tbody>\n",
       "</table>\n",
       "</div>"
      ],
      "text/plain": [
       "              importance\n",
       "RH             96.662778\n",
       "wind_mph       75.967526\n",
       "SOLIN_Wm2      50.980961\n",
       "windgust        8.900958\n",
       "dewtemp_F       0.088444\n",
       "temp_F          0.022617\n",
       "wind_dir        0.013927\n",
       "windgust_dir    0.001731\n",
       "pres_Hg         0.001669"
      ]
     },
     "execution_count": 54,
     "metadata": {},
     "output_type": "execute_result"
    }
   ],
   "source": [
    "## Feature importance in Neural Network\n",
    "\n",
    "cols = x.columns.values\n",
    "nn_featimportance = []\n",
    "for var in cols:\n",
    "    # create a vector corresponding to a 1 where the feature is located:\n",
    "    inputvector = np.array((cols==var).astype(int).reshape(1, -1))\n",
    "    nn_featimportance.append(nn.predict(inputvector)[0][0]*100)\n",
    "\n",
    "pd.DataFrame( nn_featimportance,\n",
    "             index = x.columns,\n",
    "             columns=['importance']).sort_values('importance',ascending=False)    "
   ]
  },
  {
   "cell_type": "code",
   "execution_count": null,
   "metadata": {},
   "outputs": [],
   "source": []
  },
  {
   "cell_type": "code",
   "execution_count": null,
   "metadata": {},
   "outputs": [],
   "source": []
  },
  {
   "cell_type": "code",
   "execution_count": null,
   "metadata": {},
   "outputs": [],
   "source": []
  },
  {
   "cell_type": "code",
   "execution_count": null,
   "metadata": {},
   "outputs": [],
   "source": []
  }
 ],
 "metadata": {
  "kernelspec": {
   "display_name": "Python 3",
   "language": "python",
   "name": "python3"
  },
  "language_info": {
   "codemirror_mode": {
    "name": "ipython",
    "version": 3
   },
   "file_extension": ".py",
   "mimetype": "text/x-python",
   "name": "python",
   "nbconvert_exporter": "python",
   "pygments_lexer": "ipython3",
   "version": "3.7.8"
  }
 },
 "nbformat": 4,
 "nbformat_minor": 5
}
